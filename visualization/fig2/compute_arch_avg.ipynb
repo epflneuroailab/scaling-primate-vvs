{
 "cells": [
  {
   "cell_type": "code",
   "execution_count": null,
   "metadata": {},
   "outputs": [],
   "source": [
    "%load_ext autoreload\n",
    "%autoreload 2"
   ]
  },
  {
   "cell_type": "code",
   "execution_count": null,
   "metadata": {},
   "outputs": [],
   "source": [
    "from pathlib import Path\n",
    "import sys\n",
    "import pickle\n",
    "from itertools import product\n",
    "\n",
    "import numpy as np\n",
    "import pandas as pd\n",
    "import matplotlib.pyplot as plt\n",
    "import seaborn as sns\n",
    "\n"
   ]
  },
  {
   "cell_type": "code",
   "execution_count": null,
   "metadata": {},
   "outputs": [],
   "source": [
    "repo_dir = Path('../..')"
   ]
  },
  {
   "cell_type": "code",
   "execution_count": null,
   "metadata": {},
   "outputs": [],
   "source": [
    "if str(repo_dir) not in sys.path:\n",
    "    sys.path.append(str(repo_dir))\n",
    "    \n",
    "from analysis.curve_fitting.src.fitting_functions import LOSS_FUNCTIONS\n",
    "from analysis.curve_fitting.src.utils import apply_filters, load_yaml, convert_loss_parameters, convert_loss_parameters_batch\n",
    "\n",
    "from visualization.src.utils import COLOR_PALETTES, set_ticks, save_figs\n",
    "from visualization.src.visualize import plot_reg, plot_reg_bivariate, plot_confidence_intervals\n",
    "\n"
   ]
  },
  {
   "cell_type": "code",
   "execution_count": null,
   "metadata": {},
   "outputs": [],
   "source": []
  },
  {
   "cell_type": "code",
   "execution_count": null,
   "metadata": {},
   "outputs": [],
   "source": [
    "args = {\n",
    "    'results_csv': repo_dir / 'results' / 'benchmark_scores.csv',\n",
    "}"
   ]
  },
  {
   "cell_type": "code",
   "execution_count": null,
   "metadata": {},
   "outputs": [],
   "source": [
    "results_csv = args['results_csv']\n",
    "\n",
    "df_results = pd.read_csv(results_csv)\n",
    "df_results['total_flops'] = df_results['flops'] * df_results['n_samples_seen']"
   ]
  },
  {
   "cell_type": "markdown",
   "metadata": {},
   "source": [
    "## Load Experiment Configuration"
   ]
  },
  {
   "cell_type": "code",
   "execution_count": null,
   "metadata": {},
   "outputs": [],
   "source": [
    "analysis_dir = repo_dir / 'analysis'\n",
    "config_dir = analysis_dir / 'curve_fitting/configs/model'\n",
    "results_dir = analysis_dir / 'curve_fitting/outputs/fitting_results'"
   ]
  },
  {
   "cell_type": "code",
   "execution_count": null,
   "metadata": {},
   "outputs": [],
   "source": [
    "arch_family = [\n",
    "    'ResNet',\n",
    "    'EfficientNet',\n",
    "    'ConvNeXt',\n",
    "    'ViT'\n",
    "]\n",
    "\n",
    "benchmark_types = ['avg']"
   ]
  },
  {
   "cell_type": "code",
   "execution_count": null,
   "metadata": {},
   "outputs": [],
   "source": []
  },
  {
   "cell_type": "code",
   "execution_count": null,
   "metadata": {},
   "outputs": [],
   "source": [
    "all_configs = {}\n",
    "\n",
    "for arch, b_type in product(arch_family, benchmark_types):\n",
    "    arch = arch.lower()\n",
    "    yaml_config = config_dir / f'{arch}/{arch}_{b_type}.yaml'\n",
    "    all_configs[f\"{arch}_{b_type}\"] = load_yaml(yaml_config)\n"
   ]
  },
  {
   "cell_type": "code",
   "execution_count": null,
   "metadata": {},
   "outputs": [],
   "source": [
    "L_fit_dict = {key: config['fitting_parameters']['loss_function'] for key, config in all_configs.items()}\n",
    "L_viz_dict = {key: config['visualization']['loss_function'] for key, config in all_configs.items()}\n",
    "x_scale_dict = {key: float(config['fitting_parameters']['X_scaler']) for key, config in all_configs.items()}\n",
    "\n"
   ]
  },
  {
   "cell_type": "markdown",
   "metadata": {},
   "source": [
    "## Apply Data Filters"
   ]
  },
  {
   "cell_type": "code",
   "execution_count": null,
   "metadata": {},
   "outputs": [],
   "source": [
    "all_df = {\n",
    "    name: apply_filters(df_results, config.get('data_filters', {}))\n",
    "    for name, config in all_configs.items()\n",
    "}"
   ]
  },
  {
   "cell_type": "markdown",
   "metadata": {},
   "source": [
    "## Load Fitting Results"
   ]
  },
  {
   "cell_type": "code",
   "execution_count": null,
   "metadata": {},
   "outputs": [],
   "source": [
    "optimized_params_dict = {}\n",
    "opt_params_boot_dict = {}\n",
    "\n",
    "for exp_name in all_configs.keys():\n",
    "    with open(results_dir / f'model_{exp_name}' / 'results.pkl', 'rb') as f:\n",
    "        results = pickle.load(f)\n",
    "\n",
    "    L_fit = L_fit_dict[exp_name]\n",
    "    L_viz = L_viz_dict[exp_name]\n",
    "    optimized_params_dict[exp_name] = convert_loss_parameters(results['optimized_parameters'], L_fit, L_viz)\n",
    "\n",
    "    # Convert bootstrapped parameters\n",
    "    opt_params_boot = results['optimized_parameters_bootstrapped']\n",
    "    opt_params_boot_dict[exp_name] = convert_loss_parameters_batch(\n",
    "        params=opt_params_boot,\n",
    "        src_loss=L_fit,\n",
    "        dst_loss=L_viz\n",
    "    )"
   ]
  },
  {
   "cell_type": "markdown",
   "metadata": {},
   "source": [
    "## Visualize"
   ]
  },
  {
   "cell_type": "markdown",
   "metadata": {},
   "source": [
    "#### Plotting settings"
   ]
  },
  {
   "cell_type": "code",
   "execution_count": null,
   "metadata": {},
   "outputs": [],
   "source": [
    "x_extend = 1.1\n",
    "X_str = r'$$\\tilde{C}$$'\n",
    "linewidth = 3.0\n",
    "alpha_scatter = 0.2\n",
    "alpha_ci = 0.2\n",
    "alpha_fit = 1.0\n",
    "fig_multiplier = 0.75\n",
    "figsize = (10, 8)\n",
    "figsize = (fig_multiplier * figsize[0], fig_multiplier * figsize[1])\n",
    "\n",
    "color_palaette = COLOR_PALETTES['models']\n",
    "arch2colorid = {\n",
    "    'ResNet': 5,\n",
    "    'EfficientNet': 4,\n",
    "    'ConvNeXt': 2,\n",
    "    'ViT': 3\n",
    "}"
   ]
  },
  {
   "cell_type": "markdown",
   "metadata": {},
   "source": [
    "#### Plot"
   ]
  },
  {
   "cell_type": "code",
   "execution_count": null,
   "metadata": {},
   "outputs": [],
   "source": [
    "\n",
    "# sns.set_theme(style='whitegrid')\n",
    "# sns.set_theme(style='ticks')\n",
    "\n",
    "\n",
    "fig, axes = plt.subplots(1, 1, figsize=figsize, dpi=300)\n",
    "ax = axes\n",
    "for idx, arch in enumerate(arch_family):\n",
    "\n",
    "    exp_name = f'{arch.lower()}_avg'\n",
    "    df_region = all_df[exp_name]\n",
    "    optimized_params_neuro = optimized_params_dict[exp_name]\n",
    "    opt_params_boot_neuro = opt_params_boot_dict[exp_name]\n",
    "    L = LOSS_FUNCTIONS[L_viz_dict[exp_name]]\n",
    "    x_scaler = x_scale_dict[exp_name]\n",
    "    X = df_region.total_flops.values / x_scaler\n",
    "    \n",
    "    color = color_palaette[arch2colorid[arch]]\n",
    "    sns.scatterplot(data=df_region, x='total_flops', y='score', ax=ax, color=color, alpha=alpha_scatter)\n",
    "    plot_reg(X, optimized_params_neuro, L, ax, color=color, x_extend=x_extend, linestyle='-', X_str=X_str, x_scaler=x_scaler, show_x_scaler=False, linewidth=linewidth, legend=False, alpha=alpha_fit)\n",
    "    plot_confidence_intervals(X, opt_params_boot_neuro, L, ax, color=color, x_extend=x_extend, x_scaler=x_scaler, alpha=alpha_ci, percentile=95.0, invert_y=True)\n",
    "\n",
    "\n",
    "### Formatting\n",
    "ax.set_xscale('log')\n",
    "ax.set_ylim(0, 0.5)\n",
    "ax.set_xlabel('FLOPs')\n",
    "ax.set_ylabel('Alignment')\n",
    "ax.set_xlabel('Total Flops (C)', fontsize=16, fontweight='bold')\n",
    "ax.set_ylabel('Alignment Score (S)', fontsize=16, fontweight='bold')\n",
    "ax.set_title('Average Alignment', fontsize=20, fontweight='bold')\n",
    "ax = set_ticks(ax, xticks_mode='log', yticks_mode=None, yticks=[0.1, 0.2, 0.3, 0.4, 0.5, 0.6, 0.7])\n",
    "\n",
    "### Legend\n",
    "handles, labels = ax.get_legend_handles_labels()\n",
    "labels = [arch + '   ' + l for arch, l in zip(arch_family, labels)]\n",
    "ax.legend(handles, labels, loc='upper left', fontsize=14, title=None, title_fontsize=16)\n",
    "\n",
    "ax.spines[['right', 'top']].set_visible(False)\n",
    "\n",
    "plt.tight_layout()\n",
    "\n",
    "\n",
    "figures_dir = '../figures'\n",
    "fig_name = 'fig2_compute_arch_avg'\n",
    "formats = ['pdf', 'png', 'svg']\n",
    "save_figs(figures_dir, fig_name, formats=formats)"
   ]
  },
  {
   "cell_type": "code",
   "execution_count": null,
   "metadata": {},
   "outputs": [],
   "source": []
  },
  {
   "cell_type": "code",
   "execution_count": null,
   "metadata": {},
   "outputs": [],
   "source": []
  }
 ],
 "metadata": {
  "kernelspec": {
   "display_name": "brain",
   "language": "python",
   "name": "python3"
  },
  "language_info": {
   "codemirror_mode": {
    "name": "ipython",
    "version": 3
   },
   "file_extension": ".py",
   "mimetype": "text/x-python",
   "name": "python",
   "nbconvert_exporter": "python",
   "pygments_lexer": "ipython3",
   "version": "3.11.10"
  }
 },
 "nbformat": 4,
 "nbformat_minor": 2
}
