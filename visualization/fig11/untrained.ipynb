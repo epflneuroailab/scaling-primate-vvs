{
 "cells": [
  {
   "cell_type": "code",
   "execution_count": null,
   "metadata": {},
   "outputs": [],
   "source": [
    "%load_ext autoreload\n",
    "%autoreload 2"
   ]
  },
  {
   "cell_type": "code",
   "execution_count": null,
   "metadata": {},
   "outputs": [],
   "source": [
    "from pathlib import Path\n",
    "import sys\n",
    "import pickle\n",
    "from itertools import product\n",
    "\n",
    "import numpy as np\n",
    "import pandas as pd\n",
    "import scipy.stats as stats\n",
    "\n",
    "from tqdm.auto import tqdm\n",
    "import matplotlib.pyplot as plt\n",
    "from matplotlib.colors import LogNorm\n",
    "import seaborn as sns\n",
    "\n",
    "\n",
    "sns.set_theme(style='whitegrid')\n",
    "sns.set_theme(style='ticks')\n",
    "\n"
   ]
  },
  {
   "cell_type": "code",
   "execution_count": null,
   "metadata": {},
   "outputs": [],
   "source": [
    "repo_dir = Path('../..')"
   ]
  },
  {
   "cell_type": "code",
   "execution_count": null,
   "metadata": {},
   "outputs": [],
   "source": [
    "if str(repo_dir) not in sys.path:\n",
    "    sys.path.append(str(repo_dir))\n",
    "    \n",
    "from analysis.curve_fitting.src.fitting_functions import LOSS_FUNCTIONS\n",
    "from analysis.curve_fitting.src.utils import apply_filters, load_yaml, convert_loss_parameters, convert_loss_parameters_batch\n",
    "\n",
    "from visualization.src.utils import COLOR_PALETTES, set_ticks, save_figs, COLORS\n",
    "from visualization.src.visualize import plot_reg, plot_reg_bivariate, plot_confidence_intervals\n"
   ]
  },
  {
   "cell_type": "code",
   "execution_count": null,
   "metadata": {},
   "outputs": [],
   "source": [
    "args = {\n",
    "    'results_csv': repo_dir / 'results' / 'benchmark_scores.csv',\n",
    "\n",
    "}"
   ]
  },
  {
   "cell_type": "code",
   "execution_count": null,
   "metadata": {},
   "outputs": [],
   "source": [
    "results_csv = args['results_csv']\n",
    "df_results = pd.read_csv(results_csv)\n"
   ]
  },
  {
   "cell_type": "markdown",
   "metadata": {},
   "source": [
    "## Experiment Configuration"
   ]
  },
  {
   "cell_type": "markdown",
   "metadata": {},
   "source": [
    "## Apply Data Filters"
   ]
  },
  {
   "cell_type": "code",
   "execution_count": null,
   "metadata": {},
   "outputs": [],
   "source": [
    "df_untrained = df_results[\n",
    "    (df_results['is_pretrained'] == False) &\n",
    "    # (df_results['is_random'] == True) &\n",
    "    (df_results['is_ablation'] == False) &\n",
    "    (df_results['is_adv'] == False) &\n",
    "    (df_results['is_ssl'] == False)\n",
    "]\n",
    "\n",
    "df_untrained\n",
    "\n",
    "random_models = df_untrained[df_untrained.is_random].arch.unique()\n",
    "df_untrained = df_untrained[(df_untrained.is_random) | (df_untrained.arch.isin(random_models) & (df_untrained.dataset=='imagenet') & (df_untrained.samples_per_class==0))]\n",
    "\n",
    "df_untrained"
   ]
  },
  {
   "cell_type": "markdown",
   "metadata": {},
   "source": [
    "## Visualize"
   ]
  },
  {
   "cell_type": "markdown",
   "metadata": {},
   "source": [
    "#### Plotting settings"
   ]
  },
  {
   "cell_type": "code",
   "execution_count": null,
   "metadata": {},
   "outputs": [],
   "source": [
    "linewidth = 3.0\n",
    "fig_multiplier = 0.7\n",
    "figsize = (10, 12)\n",
    "figsize = (fig_multiplier * figsize[0], fig_multiplier * figsize[1])\n",
    "\n",
    "\n",
    "color_palette_regions = COLOR_PALETTES['regions']\n",
    "color_palette_samples = COLOR_PALETTES['samples']\n",
    "color_palette_models = COLOR_PALETTES['models']\n",
    "color_palette_datasets = COLOR_PALETTES['datasets']\n",
    "\n",
    "color_palette = color_palette_datasets\n",
    "\n",
    "colors = [color_palette[0], color_palette[-1]]"
   ]
  },
  {
   "cell_type": "code",
   "execution_count": null,
   "metadata": {},
   "outputs": [],
   "source": []
  },
  {
   "cell_type": "code",
   "execution_count": null,
   "metadata": {},
   "outputs": [],
   "source": [
    "fig, axes = plt.subplots(2, 1, figsize=figsize, dpi=300)\n",
    "\n",
    "ax = axes\n",
    "df = df_untrained.copy()\n",
    "df = df.rename(columns={'dataset':'Dataset', 'arch_family':'Architecture'})\n",
    "df['sort'] = df.Architecture.map({\n",
    "    'ResNet': 0,\n",
    "    'EfficientNet': 1,\n",
    "    'ConvNeXt': 2,\n",
    "    'ViT': 3,\n",
    "})\n",
    "model_map = {\n",
    "    f\"resnet{i}\": f\"ResNet{i}\" for i in [18, 34, 50, 101, 152]\n",
    "}\n",
    "model_map.update({\n",
    "    f'efficientnet_b{i}': f'EfficientNet-B{i}' for i in [0, 1, 2]\n",
    "})\n",
    "model_map.update({\n",
    "    f'convnext_{i}': f'ConvNeXt-{i[0].upper()}' for i in ['tiny', 'small', 'base', 'large']\n",
    "})\n",
    "model_map.update({\n",
    "    f'deit_{i}': f'ViT-{i[0].upper()}' for i in ['tiny', 'small', 'base', 'large']\n",
    "})\n",
    "df['arch'] = df['arch'].map(model_map)\n",
    "model_sort = {x:i for i, x in enumerate(model_map.values())}\n",
    "df['model_sort'] = df.arch.map(model_sort)\n",
    "df.sort_values(['sort', 'model_sort'], inplace=True)\n",
    "\n",
    "for idx, r in enumerate(['Neural', 'Behavioral']):\n",
    "    ax = axes[idx]\n",
    "    \n",
    "    if r == 'Neural':\n",
    "        df_plot = df[df['region'] != 'Behavioral']\n",
    "        df_plot = df_plot.groupby(['arch', 'is_random', 'model_id', 'model_sort', 'sort']).agg({'score':'mean'}).reset_index()\n",
    "    else:\n",
    "        df_plot = df[df['region'] == 'Behavioral']\n",
    "        \n",
    "    df_plot = df_plot.sort_values(['sort', 'model_sort'])\n",
    "        \n",
    "\n",
    "\n",
    "    sns.barplot(data=df_plot, x='arch', y='score', hue='is_random', ax=ax, palette=colors)\n",
    "\n",
    "    ax.set_xlabel('Model', fontsize=16, fontweight='bold')\n",
    "    ax.set_ylabel('Alignment Score (S)', fontsize=16, fontweight='bold')\n",
    "    ax.set_title(f'{r.capitalize()} Alignment', fontsize=16, fontweight='bold')\n",
    "    ax.legend(loc='center right', title= 'Untrained')\n",
    "    ax.grid(True)\n",
    "\n",
    "\n",
    "\n",
    "\n",
    "    # ax.plot(compute, pred_losses)\n",
    "    ax.spines[['right', 'top']].set_visible(False)\n",
    "    # ax.set_xticks(ax.get_xticks(), ax.get_xticklabels(), rotation=45, ha='right')\n",
    "    labels = ax.get_xticklabels()\n",
    "    # for i, label in enumerate(labels):\n",
    "    #     labels[i] = f\"{label.get_text()} \\n ({samples_map[label.get_text()]})\"\n",
    "\n",
    "    ax.set_xticks(ax.get_xticks(), labels, rotation=30, ha='right', rotation_mode='anchor')\n",
    "    \n",
    "    \n",
    "    \n",
    "plt.tight_layout()\n",
    "\n",
    "\n",
    "figures_dir = '../figures'\n",
    "fig_name = 'fig11_untrained'\n",
    "formats = ['pdf', 'png', 'svg']\n",
    "save_figs(figures_dir, fig_name, formats=formats)"
   ]
  },
  {
   "cell_type": "code",
   "execution_count": null,
   "metadata": {},
   "outputs": [],
   "source": []
  }
 ],
 "metadata": {
  "kernelspec": {
   "display_name": "brain",
   "language": "python",
   "name": "python3"
  },
  "language_info": {
   "codemirror_mode": {
    "name": "ipython",
    "version": 3
   },
   "file_extension": ".py",
   "mimetype": "text/x-python",
   "name": "python",
   "nbconvert_exporter": "python",
   "pygments_lexer": "ipython3",
   "version": "3.11.10"
  }
 },
 "nbformat": 4,
 "nbformat_minor": 2
}
