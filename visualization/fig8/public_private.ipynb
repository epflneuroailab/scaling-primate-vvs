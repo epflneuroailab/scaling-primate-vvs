{
 "cells": [
  {
   "cell_type": "code",
   "execution_count": null,
   "metadata": {},
   "outputs": [],
   "source": [
    "%load_ext autoreload\n",
    "%autoreload 2"
   ]
  },
  {
   "cell_type": "code",
   "execution_count": null,
   "metadata": {},
   "outputs": [],
   "source": [
    "from pathlib import Path\n",
    "import sys\n",
    "import pickle\n",
    "from itertools import product\n",
    "\n",
    "import numpy as np\n",
    "import pandas as pd\n",
    "import scipy.stats as stats\n",
    "\n",
    "from tqdm.auto import tqdm\n",
    "import matplotlib.pyplot as plt\n",
    "from matplotlib.colors import LogNorm\n",
    "import seaborn as sns\n",
    "\n",
    "sns.set_theme(style='whitegrid')\n",
    "sns.set_theme(style='ticks')"
   ]
  },
  {
   "cell_type": "code",
   "execution_count": null,
   "metadata": {},
   "outputs": [],
   "source": [
    "repo_dir = Path('../..')"
   ]
  },
  {
   "cell_type": "code",
   "execution_count": null,
   "metadata": {},
   "outputs": [],
   "source": [
    "if str(repo_dir) not in sys.path:\n",
    "    sys.path.append(str(repo_dir))\n",
    "    \n",
    "from analysis.curve_fitting.src.fitting_functions import LOSS_FUNCTIONS\n",
    "from analysis.curve_fitting.src.utils import apply_filters, load_yaml, convert_loss_parameters, convert_loss_parameters_batch\n",
    "\n",
    "from visualization.src.utils import COLOR_PALETTES, set_ticks, save_figs\n",
    "from visualization.src.visualize import plot_reg, plot_reg_bivariate, plot_confidence_intervals\n",
    "\n"
   ]
  },
  {
   "cell_type": "code",
   "execution_count": null,
   "metadata": {},
   "outputs": [],
   "source": []
  },
  {
   "cell_type": "code",
   "execution_count": null,
   "metadata": {},
   "outputs": [],
   "source": [
    "args = {\n",
    "    'results_csv': repo_dir / 'results' / 'benchmark_scores.csv',\n",
    "}"
   ]
  },
  {
   "cell_type": "code",
   "execution_count": null,
   "metadata": {},
   "outputs": [],
   "source": [
    "results_csv = args['results_csv']\n",
    "\n",
    "df_results = pd.read_csv(results_csv)"
   ]
  },
  {
   "cell_type": "markdown",
   "metadata": {},
   "source": [
    "## Load Experiment Configuration"
   ]
  },
  {
   "cell_type": "code",
   "execution_count": null,
   "metadata": {},
   "outputs": [],
   "source": [
    "config = {\n",
    "    'data_filters': {\n",
    "        'set_filters': {\n",
    "            'region': [\n",
    "                'V1',\n",
    "                'V2',\n",
    "                'V4',\n",
    "                'IT',\n",
    "                'Behavioral'\n",
    "                ],\n",
    "            'dataset': [\n",
    "                'imagenet',\n",
    "                'ecoset',\n",
    "                ]\n",
    "            },\n",
    "    'boolean_filters': {\n",
    "        'equals_false': [\n",
    "            'is_pretrained',\n",
    "            'is_random',\n",
    "            'is_ssl',\n",
    "            'is_adv',\n",
    "            'is_ablation'\n",
    "            ]\n",
    "        },\n",
    "    \n",
    "    # 'group_by': {\n",
    "    #     'avg_score': {\n",
    "    #         'keys': [\n",
    "    #             'model_id',\n",
    "    #             'arch',\n",
    "    #             'dataset',\n",
    "    #             'flops',\n",
    "    #             'n_params',\n",
    "    #             'n_samples',\n",
    "    #             'n_samples_seen',\n",
    "    #             'total_flops',\n",
    "    #             'arch_family',\n",
    "    #             'samples_per_class',\n",
    "    #             'benchmark_name',\n",
    "    #             'region'\n",
    "    #         ],\n",
    "    #         'reduce': {'score': 'mean'}}},\n",
    "\n",
    "    'combine_arch_families': True,\n",
    "    }\n",
    "}"
   ]
  },
  {
   "cell_type": "markdown",
   "metadata": {},
   "source": [
    "## Apply Data Filters"
   ]
  },
  {
   "cell_type": "code",
   "execution_count": null,
   "metadata": {},
   "outputs": [],
   "source": [
    "df = apply_filters(df_results, config.get('data_filters', {}))\n",
    "df['benchmark_type'] = 'public'"
   ]
  },
  {
   "cell_type": "markdown",
   "metadata": {},
   "source": [
    "## Load Private Benchmark Results"
   ]
  },
  {
   "cell_type": "code",
   "execution_count": null,
   "metadata": {},
   "outputs": [],
   "source": [
    "private_results = repo_dir / 'results' / 'benchmark_scores_brainscore.csv'\n",
    "df_private = pd.read_csv(private_results)"
   ]
  },
  {
   "cell_type": "code",
   "execution_count": null,
   "metadata": {},
   "outputs": [],
   "source": [
    "\n",
    "model_ids = df.model_id.unique()\n",
    "df_private = df_private[df_private.model_id.isin(model_ids)]\n",
    "columns = [\n",
    "    'model_id',\n",
    "    'FreemanZiemba2013.V1-pls',\n",
    "    'FreemanZiemba2013.V2-pls',\n",
    "    'MajajHong2015.V4-pls',\n",
    "    'MajajHong2015.IT-pls',\n",
    "    'Rajalingham2018-i2n',\n",
    "]\n",
    "df_private = df_private[columns]\n",
    "\n",
    "column_map = {\n",
    "    'FreemanZiemba2013.V1-pls': 'movshon.FreemanZiemba2013public.V1-pls',\n",
    "    'FreemanZiemba2013.V2-pls': 'movshon.FreemanZiemba2013public.V2-pls',\n",
    "    'MajajHong2015.V4-pls': 'dicarlo.MajajHong2015public.V4-pls',\n",
    "    'MajajHong2015.IT-pls': 'dicarlo.MajajHong2015public.IT-pls',\n",
    "    'Rajalingham2018-i2n': 'dicarlo.Rajalingham2018public-i2n',\n",
    "}\n",
    "df_private = df_private.rename(columns=column_map)\n",
    "df_private = df_private.melt(id_vars='model_id', value_vars=list(column_map.values())[:], var_name='benchmark_name', value_name='score')\n",
    "\n",
    "\n",
    "region_map = {\n",
    "    'movshon.FreemanZiemba2013public.V1-pls': 'V1',\n",
    "    'movshon.FreemanZiemba2013public.V2-pls': 'V2',\n",
    "    'dicarlo.MajajHong2015public.V4-pls': 'V4',\n",
    "    'dicarlo.MajajHong2015public.IT-pls': 'IT',\n",
    "    'dicarlo.Rajalingham2018public-i2n': 'Behavioral',\n",
    "}\n",
    "# df_private['benchmark_type'] = 'private'\n",
    "df_private['region'] = df_private.benchmark_name.apply(lambda x: region_map[x])\n",
    "df_private"
   ]
  },
  {
   "cell_type": "code",
   "execution_count": null,
   "metadata": {},
   "outputs": [],
   "source": [
    "df_private.region.unique()"
   ]
  },
  {
   "cell_type": "code",
   "execution_count": null,
   "metadata": {},
   "outputs": [],
   "source": [
    "df_public = df.copy().drop(columns=['benchmark_type'])\n",
    "df_plot = df_public.merge(df_private, on=['model_id', 'benchmark_name', 'region'], how='inner', suffixes=('_public', '_private'))\n",
    "df_plot.columns"
   ]
  },
  {
   "cell_type": "markdown",
   "metadata": {},
   "source": [
    "### Compute confidence intervals"
   ]
  },
  {
   "cell_type": "code",
   "execution_count": null,
   "metadata": {},
   "outputs": [],
   "source": [
    "random_state = 42\n",
    "num_bootstraps = 1000\n",
    "fraction = 1\n",
    "\n",
    "rng = np.random.default_rng(random_state)\n",
    "all_samples = int(len(df_plot)/5)\n",
    "num_samples = int(fraction * all_samples)\n",
    "random_indices = rng.integers(0, all_samples, size=(num_bootstraps, num_samples))"
   ]
  },
  {
   "cell_type": "code",
   "execution_count": null,
   "metadata": {},
   "outputs": [],
   "source": [
    "df_fits = []\n",
    "\n",
    "for i, region in tqdm(enumerate(['V1', 'V2', 'V4', 'IT', 'Behavioral']), total=5):\n",
    "    for j, indices in tqdm(enumerate(random_indices), leave=False, total=num_bootstraps):\n",
    "        data = df_plot[df_plot.region == region].copy().reset_index(drop=True)\n",
    "        data = data.iloc[indices]\n",
    "        data = data.dropna(subset=['score_public', 'score_private'])\n",
    "        x = data['score_public']\n",
    "        y = data['score_private']\n",
    "        reg = stats.linregress(x, y)\n",
    "        \n",
    "        df_fits.append({\n",
    "            'region': region,\n",
    "            'slope': reg.slope,\n",
    "            'intercept': reg.intercept,\n",
    "            'rvalue': reg.rvalue,\n",
    "            'pvalue': reg.pvalue,\n",
    "            'stderr': reg.stderr,\n",
    "        })\n",
    "        \n",
    "df_fits = pd.DataFrame(df_fits)\n",
    "df_fits"
   ]
  },
  {
   "cell_type": "markdown",
   "metadata": {},
   "source": [
    "## Visualize"
   ]
  },
  {
   "cell_type": "markdown",
   "metadata": {},
   "source": [
    "#### Plotting settings"
   ]
  },
  {
   "cell_type": "code",
   "execution_count": null,
   "metadata": {},
   "outputs": [],
   "source": [
    "linewidth = 3.0\n",
    "scatter_alpha = 0.2\n",
    "fig_multiplier = 1\n",
    "font_size_multiplier = 1.5\n",
    "figsize = (12, 6)\n",
    "figsize = (fig_multiplier * figsize[0], fig_multiplier * figsize[1])\n",
    "\n",
    "color_palaette_samples = COLOR_PALETTES['samples']\n",
    "color_palaette_regions = COLOR_PALETTES['regions']\n",
    "color = color_palaette_regions[-1]"
   ]
  },
  {
   "cell_type": "markdown",
   "metadata": {},
   "source": [
    "#### Plot"
   ]
  },
  {
   "cell_type": "code",
   "execution_count": null,
   "metadata": {},
   "outputs": [],
   "source": [
    "fig, axes = plt.subplots(2, 3, figsize=figsize, dpi=300)\n",
    "for i, region in enumerate(['V1', 'V2', 'V4', 'IT', 'Behavioral']):\n",
    "    ax = axes.flatten()[i]\n",
    "    data = df_plot[df_plot.region == region]\n",
    "    data = data.dropna(subset=['score_public', 'score_private'])\n",
    "    x = data['score_public']\n",
    "    y = data['score_private']\n",
    "    reg = stats.linregress(x, y)\n",
    "    \n",
    "    ### Plot\n",
    "    text = f\"$R^2$: {reg.rvalue**2:.2f}\\np-value ={reg.pvalue:.2e}\"\n",
    "    sns.regplot(x=x, y=y, ax=ax, color=color, label=text)\n",
    "    \n",
    "    ### Formatting\n",
    "    ax.set_title(region, fontsize=16, fontweight='bold')\n",
    "    ax.set_xlabel('Public', fontsize=12, fontweight='bold')\n",
    "    ax.set_ylabel('Private', fontsize=12, fontweight='bold')\n",
    "    ax.grid(True)\n",
    "    \n",
    "    ### Legend\n",
    "    ax.legend()\n",
    "    ax.spines[['right', 'top']].set_visible(False)\n",
    "\n",
    "\n",
    "ax = axes.flatten()[-1]\n",
    "data = df_plot.groupby(['model_id']).mean({'score_private':'mean', 'score_public':'mean'}).reset_index()\n",
    "data = data.dropna(subset=['score_public', 'score_private'])\n",
    "x = data['score_public']\n",
    "y = data['score_private']\n",
    "reg = stats.linregress(x, y)\n",
    "\n",
    "### Plot\n",
    "text = f\"$R^2$: {reg.rvalue**2:.2f}\\np-value ={reg.pvalue:.2e}\"\n",
    "sns.regplot(x=x, y=y, ax=ax, color=color, label=text)\n",
    "\n",
    "### Formatting\n",
    "ax.set_title('Average', fontsize=16, fontweight='bold')\n",
    "ax.set_xlabel('Public', fontsize=12, fontweight='bold')\n",
    "ax.set_ylabel('Private', fontsize=12, fontweight='bold')\n",
    "ax.grid(True)\n",
    "\n",
    "### Legend\n",
    "ax.legend()\n",
    "ax.spines[['right', 'top']].set_visible(False)\n",
    "\n",
    "plt.tight_layout()\n",
    "\n",
    "\n",
    "figures_dir = '../figures'\n",
    "fig_name = 'fig8_public_vs_private'\n",
    "formats = ['pdf', 'png', 'svg']\n",
    "save_figs(figures_dir, fig_name, formats=formats)"
   ]
  },
  {
   "cell_type": "code",
   "execution_count": null,
   "metadata": {},
   "outputs": [],
   "source": []
  },
  {
   "cell_type": "code",
   "execution_count": null,
   "metadata": {},
   "outputs": [],
   "source": []
  }
 ],
 "metadata": {
  "kernelspec": {
   "display_name": "brain",
   "language": "python",
   "name": "python3"
  },
  "language_info": {
   "codemirror_mode": {
    "name": "ipython",
    "version": 3
   },
   "file_extension": ".py",
   "mimetype": "text/x-python",
   "name": "python",
   "nbconvert_exporter": "python",
   "pygments_lexer": "ipython3",
   "version": "3.11.10"
  }
 },
 "nbformat": 4,
 "nbformat_minor": 2
}
