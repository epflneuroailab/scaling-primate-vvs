{
 "cells": [
  {
   "cell_type": "code",
   "execution_count": null,
   "metadata": {},
   "outputs": [],
   "source": [
    "%load_ext autoreload\n",
    "%autoreload 2"
   ]
  },
  {
   "cell_type": "code",
   "execution_count": null,
   "metadata": {},
   "outputs": [],
   "source": [
    "from pathlib import Path\n",
    "import sys\n",
    "import pickle\n",
    "from itertools import product\n",
    "\n",
    "import numpy as np\n",
    "import pandas as pd\n",
    "import matplotlib.pyplot as plt\n",
    "import seaborn as sns\n",
    "\n",
    "sns.set_theme(style='whitegrid')\n",
    "sns.set_theme(style='ticks')"
   ]
  },
  {
   "cell_type": "code",
   "execution_count": null,
   "metadata": {},
   "outputs": [],
   "source": [
    "repo_dir = Path('../..')"
   ]
  },
  {
   "cell_type": "code",
   "execution_count": null,
   "metadata": {},
   "outputs": [],
   "source": [
    "if str(repo_dir) not in sys.path:\n",
    "    sys.path.append(str(repo_dir))\n",
    "    \n",
    "from analysis.curve_fitting.src.fitting_functions import LOSS_FUNCTIONS\n",
    "from analysis.curve_fitting.src.utils import apply_filters, load_yaml, convert_loss_parameters, convert_loss_parameters_batch\n",
    "\n",
    "from visualization.src.utils import COLOR_PALETTES, set_ticks, COLORS, save_figs\n",
    "from visualization.src.visualize import plot_reg, plot_reg_bivariate, plot_confidence_intervals\n",
    "\n"
   ]
  },
  {
   "cell_type": "code",
   "execution_count": null,
   "metadata": {},
   "outputs": [],
   "source": []
  },
  {
   "cell_type": "code",
   "execution_count": null,
   "metadata": {},
   "outputs": [],
   "source": [
    "args = {\n",
    "    'results_csv': repo_dir / 'results' / 'benchmark_scores.csv',\n",
    "}"
   ]
  },
  {
   "cell_type": "code",
   "execution_count": null,
   "metadata": {},
   "outputs": [],
   "source": [
    "results_csv = args['results_csv']\n",
    "\n",
    "df_results = pd.read_csv(results_csv)\n"
   ]
  },
  {
   "cell_type": "markdown",
   "metadata": {},
   "source": [
    "## Load Experiment Configuration"
   ]
  },
  {
   "cell_type": "code",
   "execution_count": null,
   "metadata": {},
   "outputs": [],
   "source": [
    "analysis_dir = repo_dir / 'analysis'\n",
    "config_dir = analysis_dir / 'curve_fitting/configs/parameter'\n",
    "results_dir = analysis_dir / 'curve_fitting/outputs/fitting_results'"
   ]
  },
  {
   "cell_type": "code",
   "execution_count": null,
   "metadata": {},
   "outputs": [],
   "source": []
  },
  {
   "cell_type": "code",
   "execution_count": null,
   "metadata": {},
   "outputs": [],
   "source": [
    "experiment_name = \"parameter_pretrained_scaling\"\n",
    "config = load_yaml(config_dir / f'{experiment_name}.yaml')\n"
   ]
  },
  {
   "cell_type": "code",
   "execution_count": null,
   "metadata": {},
   "outputs": [],
   "source": [
    "L_fit = config['fitting_parameters']['loss_function']\n",
    "L_viz = config['visualization']['loss_function']\n",
    "x_scaler = float(config['fitting_parameters']['X_scaler'])\n",
    "\n"
   ]
  },
  {
   "cell_type": "markdown",
   "metadata": {},
   "source": [
    "## Apply Data Filters"
   ]
  },
  {
   "cell_type": "code",
   "execution_count": null,
   "metadata": {},
   "outputs": [],
   "source": [
    "df = apply_filters(df_results, config.get('data_filters', {}))\n",
    "\n",
    "\n",
    "\n",
    "# df = df_results[df_results['is_pretrained'] == True]\n",
    "# df = df[df.model_id.apply(lambda x: 'fcmae' not in x)]\n",
    "# df = df[df.arch_family != 'ConViT']\n",
    "# df = df[df.arch_family != 'AlexNet']\n",
    "# df = df[df.arch_family != 'ViT-B-OpenClip']\n",
    "# df = df.groupby(['model_id', 'n_params', 'arch', 'arch_family', 'dataset']).agg({'score': 'mean'}).reset_index()\n",
    "df"
   ]
  },
  {
   "cell_type": "code",
   "execution_count": null,
   "metadata": {},
   "outputs": [],
   "source": [
    "df.arch.nunique()\n",
    "df.arch_family.unique()\n",
    "df[df.model_id.apply(lambda x: '_nc-' not in x)].model_id.nunique()"
   ]
  },
  {
   "cell_type": "markdown",
   "metadata": {},
   "source": [
    "## Load Fitting Results"
   ]
  },
  {
   "cell_type": "code",
   "execution_count": null,
   "metadata": {},
   "outputs": [],
   "source": [
    "with open(results_dir / f'{experiment_name}' / 'results.pkl', 'rb') as f:\n",
    "    results = pickle.load(f)\n",
    "\n",
    "\n",
    "optimized_params = convert_loss_parameters(results['optimized_parameters'], L_fit, L_viz)\n",
    "\n",
    "# Convert bootstrapped parameters\n",
    "opt_params_boot = results['optimized_parameters_bootstrapped']\n",
    "opt_params_boot = convert_loss_parameters_batch(\n",
    "    params=opt_params_boot,\n",
    "    src_loss=L_fit,\n",
    "    dst_loss=L_viz\n",
    ")"
   ]
  },
  {
   "cell_type": "markdown",
   "metadata": {},
   "source": [
    "## Visualize"
   ]
  },
  {
   "cell_type": "markdown",
   "metadata": {},
   "source": [
    "#### Plotting settings"
   ]
  },
  {
   "cell_type": "code",
   "execution_count": null,
   "metadata": {},
   "outputs": [],
   "source": [
    "x_extend = 1.1\n",
    "X_str = r'$$\\tilde{N}$$'\n",
    "linewidth = 3.0\n",
    "alpha_scatter = 1.0\n",
    "alpha_ci = 0.2\n",
    "alpha_fit = 1.0\n",
    "fig_multiplier = 0.7\n",
    "figsize = (10, 8)\n",
    "figsize = (fig_multiplier * figsize[0], fig_multiplier * figsize[1])\n",
    "\n",
    "color_palaette = COLOR_PALETTES['models']\n",
    "color = \"#023e8a\""
   ]
  },
  {
   "cell_type": "markdown",
   "metadata": {},
   "source": [
    "#### Plot"
   ]
  },
  {
   "cell_type": "code",
   "execution_count": null,
   "metadata": {},
   "outputs": [],
   "source": [
    "sns.set_theme(style='whitegrid')\n",
    "sns.set_theme(style='ticks')\n",
    "\n",
    "\n",
    "fig, axes = plt.subplots(1, 1, figsize=figsize, dpi=300)\n",
    "\n",
    "ax = axes\n",
    "\n",
    "### Neuro\n",
    "df_plot = df\n",
    "L = LOSS_FUNCTIONS[L_viz]\n",
    "x_scaler = x_scaler\n",
    "X = df_plot.n_params.values / x_scaler\n",
    "\n",
    "\n",
    "\n",
    "df_plot.rename(columns={'arch_family': 'Architecture'}, inplace=True)\n",
    "sns.scatterplot(data=df_plot, x='n_params', y='score', ax=ax, hue='Architecture', style='Architecture', s=120, palette=color_palaette, alpha=alpha_scatter)\n",
    "plot_reg(X, optimized_params, L, ax, color=color, x_extend=x_extend, linestyle='-', X_str=X_str, x_scaler=x_scaler, show_x_scaler=False, linewidth=linewidth, legend=True, alpha=alpha_fit)\n",
    "plot_confidence_intervals(X, opt_params_boot, L, ax, color=color, x_extend=x_extend, x_scaler=x_scaler, alpha=alpha_ci, percentile=95.0, invert_y=True)\n",
    "\n",
    "### Formatting\n",
    "ax.set_xscale('log')\n",
    "ax.set_xlabel('Model Parameters (N)', fontsize=16, fontweight='bold')\n",
    "ax.set_ylabel('Alignment Score (S)', fontsize=16, fontweight='bold')\n",
    "# ax.set_title(arch_family, fontsize=20, fontweight='bold')\n",
    "ax = set_ticks(ax, xticks_mode='log', yticks_mode=None, yticks=[0.2, 0.3, 0.4, 0.5])\n",
    "ax.set_ylim(0.27, 0.5)\n",
    "\n",
    "ax.spines[['right', 'top']].set_visible(False)\n",
    "    \n",
    "plt.tight_layout()\n",
    "\n",
    "\n",
    "figures_dir = '../figures'\n",
    "fig_name = 'fig9_params_pretrained'\n",
    "formats = ['pdf', 'png', 'svg']\n",
    "save_figs(figures_dir, fig_name, formats=formats)\n"
   ]
  },
  {
   "cell_type": "code",
   "execution_count": null,
   "metadata": {},
   "outputs": [],
   "source": [
    "df.sort_values('score', ascending=False)"
   ]
  },
  {
   "cell_type": "code",
   "execution_count": null,
   "metadata": {},
   "outputs": [],
   "source": [
    "df[df.model_id.apply(lambda x: '_nc-' in x)].model_id.unique()"
   ]
  },
  {
   "cell_type": "code",
   "execution_count": null,
   "metadata": {},
   "outputs": [],
   "source": [
    "d = df_results[df_results['is_pretrained'] == True]\n",
    "d = d[d.region == 'Behavioral']\n",
    "d = d.sort_values('score', ascending=False)\n",
    "d[d.columns[:15]]"
   ]
  },
  {
   "cell_type": "code",
   "execution_count": null,
   "metadata": {},
   "outputs": [],
   "source": [
    "# d = df_results[df_results['is_pretrained'] == True]\n",
    "d = df_results\n",
    "# d = d[d.region != 'Behavioral']\n",
    "d = d.groupby(['model_id', 'n_params', 'arch', 'arch_family', 'dataset']).agg({'score': 'mean'}).reset_index()\n",
    "d = d.sort_values('score', ascending=False)\n",
    "d[d.columns[:15]]"
   ]
  },
  {
   "cell_type": "code",
   "execution_count": null,
   "metadata": {},
   "outputs": [],
   "source": [
    "list(d.model_id)[:10]"
   ]
  },
  {
   "cell_type": "code",
   "execution_count": null,
   "metadata": {},
   "outputs": [],
   "source": [
    "# d = df_results[df_results['is_pretrained'] == True]\n",
    "d = df_results\n",
    "d = d[d.region != 'Behavioral']\n",
    "d = d.groupby(['model_id', 'n_params', 'arch', 'arch_family', 'dataset']).agg({'score': 'mean'}).reset_index()\n",
    "d = d.sort_values('score', ascending=False)\n",
    "d[d.columns[:15]]"
   ]
  },
  {
   "cell_type": "code",
   "execution_count": null,
   "metadata": {},
   "outputs": [],
   "source": [
    "list(d.model_id)[:10]"
   ]
  }
 ],
 "metadata": {
  "kernelspec": {
   "display_name": "brain",
   "language": "python",
   "name": "python3"
  },
  "language_info": {
   "codemirror_mode": {
    "name": "ipython",
    "version": 3
   },
   "file_extension": ".py",
   "mimetype": "text/x-python",
   "name": "python",
   "nbconvert_exporter": "python",
   "pygments_lexer": "ipython3",
   "version": "3.11.10"
  }
 },
 "nbformat": 4,
 "nbformat_minor": 2
}
