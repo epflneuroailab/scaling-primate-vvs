{
 "cells": [
  {
   "cell_type": "code",
   "execution_count": null,
   "metadata": {},
   "outputs": [],
   "source": [
    "%load_ext autoreload\n",
    "%autoreload 2"
   ]
  },
  {
   "cell_type": "code",
   "execution_count": null,
   "metadata": {},
   "outputs": [],
   "source": [
    "from pathlib import Path\n",
    "import sys\n",
    "import pickle\n",
    "from itertools import product\n",
    "\n",
    "import numpy as np\n",
    "import pandas as pd\n",
    "import matplotlib.pyplot as plt\n",
    "from matplotlib.colors import LogNorm\n",
    "import seaborn as sns\n",
    "\n"
   ]
  },
  {
   "cell_type": "code",
   "execution_count": null,
   "metadata": {},
   "outputs": [],
   "source": [
    "repo_dir = Path('../..')"
   ]
  },
  {
   "cell_type": "code",
   "execution_count": null,
   "metadata": {},
   "outputs": [],
   "source": [
    "if str(repo_dir) not in sys.path:\n",
    "    sys.path.append(str(repo_dir))\n",
    "    \n",
    "from analysis.curve_fitting.src.fitting_functions import LOSS_FUNCTIONS\n",
    "from analysis.curve_fitting.src.utils import apply_filters, load_yaml, convert_loss_parameters, convert_loss_parameters_batch, compute_scaling_law_coeffs\n",
    "\n",
    "from visualization.src.utils import COLOR_PALETTES, set_ticks, COLORS, save_figs\n",
    "from visualization.src.visualize import plot_reg, plot_reg_bivariate, plot_confidence_intervals\n",
    "\n"
   ]
  },
  {
   "cell_type": "code",
   "execution_count": null,
   "metadata": {},
   "outputs": [],
   "source": []
  },
  {
   "cell_type": "code",
   "execution_count": null,
   "metadata": {},
   "outputs": [],
   "source": [
    "args = {\n",
    "    'results_csv': repo_dir / 'results' / 'benchmark_scores.csv',\n",
    "}"
   ]
  },
  {
   "cell_type": "code",
   "execution_count": null,
   "metadata": {},
   "outputs": [],
   "source": [
    "results_csv = args['results_csv']\n",
    "\n",
    "df_results = pd.read_csv(results_csv)\n",
    "df_results['total_flops'] = df_results['flops'] * df_results['n_samples_seen']"
   ]
  },
  {
   "cell_type": "markdown",
   "metadata": {},
   "source": [
    "## Load Experiment Configuration"
   ]
  },
  {
   "cell_type": "code",
   "execution_count": null,
   "metadata": {},
   "outputs": [],
   "source": [
    "analysis_dir = repo_dir / 'analysis'\n",
    "config_dir = analysis_dir / 'curve_fitting/configs/compute'\n",
    "results_dir = analysis_dir / 'curve_fitting/outputs/fitting_results'"
   ]
  },
  {
   "cell_type": "code",
   "execution_count": null,
   "metadata": {},
   "outputs": [],
   "source": []
  },
  {
   "cell_type": "code",
   "execution_count": null,
   "metadata": {},
   "outputs": [],
   "source": [
    "experiment_name = \"chinchilla\"\n",
    "config = load_yaml(config_dir / f'{experiment_name}.yaml')\n"
   ]
  },
  {
   "cell_type": "code",
   "execution_count": null,
   "metadata": {},
   "outputs": [],
   "source": [
    "L_fit = config['fitting_parameters']['loss_function']\n",
    "L_viz = config['visualization']['loss_function']\n",
    "x1_scaler = float(config['fitting_parameters']['X1_scaler'])\n",
    "x2_scaler = float(config['fitting_parameters']['X2_scaler'])\n",
    "\n"
   ]
  },
  {
   "cell_type": "markdown",
   "metadata": {},
   "source": [
    "## Apply Data Filters"
   ]
  },
  {
   "cell_type": "code",
   "execution_count": null,
   "metadata": {},
   "outputs": [],
   "source": [
    "df = apply_filters(df_results, config.get('data_filters', {}))\n"
   ]
  },
  {
   "cell_type": "markdown",
   "metadata": {},
   "source": [
    "## Load Fitting Results"
   ]
  },
  {
   "cell_type": "code",
   "execution_count": null,
   "metadata": {},
   "outputs": [],
   "source": [
    "with open(results_dir / f'compute_{experiment_name}' / 'results.pkl', 'rb') as f:\n",
    "    results = pickle.load(f)\n",
    "\n",
    "\n",
    "optimized_params = convert_loss_parameters(results['optimized_parameters'], L_fit, L_viz)\n",
    "\n",
    "# Convert bootstrapped parameters\n",
    "opt_params_boot = results['optimized_parameters_bootstrapped']\n",
    "opt_params_boot = convert_loss_parameters_batch(\n",
    "    params=opt_params_boot,\n",
    "    src_loss=L_fit,\n",
    "    dst_loss=L_viz\n",
    ")"
   ]
  },
  {
   "cell_type": "markdown",
   "metadata": {},
   "source": [
    "## Visualize"
   ]
  },
  {
   "cell_type": "markdown",
   "metadata": {},
   "source": [
    "#### Plotting settings"
   ]
  },
  {
   "cell_type": "code",
   "execution_count": null,
   "metadata": {},
   "outputs": [],
   "source": [
    "multiplier = 1.0\n",
    "X1_str = '\\\\tilde{N}'\n",
    "X2_str = '\\\\tilde{D}'\n",
    "linewidth = 3.0\n",
    "alpha_scatter = 0.2\n",
    "alpha_ci = 0.2\n",
    "alpha_fit = 1.0\n",
    "fig_multiplier = 0.7\n",
    "figsize = (12, 8)\n",
    "figsize = (fig_multiplier * figsize[0], fig_multiplier * figsize[1])\n",
    "\n",
    "\n",
    "L = LOSS_FUNCTIONS[L_viz]\n",
    "N = df.n_params.values / x1_scaler\n",
    "D = df.n_samples_seen.values / x2_scaler\n",
    "C = df.total_flops.values / (x1_scaler * x2_scaler)\n",
    "scaling_coeff = compute_scaling_law_coeffs(optimized_params, (N, D, C))\n",
    "scaling_coeff_boot = [\n",
    "    compute_scaling_law_coeffs(opt_params, (N, D, C))\n",
    "    for opt_params in opt_params_boot\n",
    "]\n",
    "x_scaler = x1_scaler * x2_scaler\n",
    "compute = np.geomspace(5e13, 1e20, 1000)\n",
    "\n",
    "color_palette = COLOR_PALETTES['samples']\n",
    "color = COLORS['cyan_dark']"
   ]
  },
  {
   "cell_type": "code",
   "execution_count": null,
   "metadata": {},
   "outputs": [],
   "source": [
    "# color_palette = sns.color_palette(list(color_palette), as_cmap=True)"
   ]
  },
  {
   "cell_type": "markdown",
   "metadata": {},
   "source": [
    "#### Plot"
   ]
  },
  {
   "cell_type": "code",
   "execution_count": null,
   "metadata": {},
   "outputs": [],
   "source": [
    "sns.set_theme(style='whitegrid')\n",
    "sns.set_theme(style='ticks')\n",
    "\n",
    "\n",
    "fig, axes = plt.subplots(1, 1, figsize=figsize, dpi=300)\n",
    "\n",
    "ax = axes\n",
    "\n",
    "### \n",
    "df_plot = df\n",
    "\n",
    "\n",
    "sns.scatterplot(data=df_plot, x='total_flops', y='score', style='arch_family', size='n_params', hue='n_samples_seen', ax=ax, hue_norm=LogNorm(), size_norm=LogNorm(), palette=color_palette)\n",
    "\n",
    "\n",
    "# plot_reg(X, optimized_params, L, ax, color=color, multiplier=multiplier, linestyle='-', X_str=X_str, x_scale_multiplier=x_scale_multiplier, show_x_scale_multiplier=False, linewidth=linewidth, legend=True)\n",
    "plot_reg_bivariate(scaling_coeff, optimized_params, L, X_str=X1_str, Y_str=X2_str, ax=ax, color=color, x1_scale_multiplier=x1_scaler, x2_scale_multiplier=x2_scaler, linewidth=linewidth, alpha=alpha_fit)\n",
    "plot_confidence_intervals(compute, opt_params_boot, L, ax, x_scaler=x_scaler, is_chinchilla=True, scaling_coeffs=scaling_coeff_boot, color=color, x_extend=multiplier, alpha=alpha_ci, percentile=95.0, invert_y=True)\n",
    "\n",
    "\n",
    "### Colorbar\n",
    "sm = plt.cm.ScalarMappable(cmap= color_palette, norm=LogNorm())\n",
    "sm.set_clim(df_plot['n_samples_seen'].min(), df_plot['n_samples_seen'].max())\n",
    "cbar = plt.colorbar(sm, ax=ax)\n",
    "cbar.set_label('Number of Samples Seen')\n",
    "cbar.set_label('Number of Samples Seen', rotation=270, labelpad=15)\n",
    "\n",
    "\n",
    "### Formatting\n",
    "ax.set_xscale('log')\n",
    "ax.set_ylim(0, 0.5)\n",
    "ax.set_xlabel('FLOPs')\n",
    "ax.set_ylabel('Alignment')\n",
    "ax.set_xlabel('Total Flops (C)', fontsize=16, fontweight='bold')\n",
    "ax.set_ylabel('Alignment Score (S)', fontsize=16, fontweight='bold')\n",
    "ax.set_ylim(0, 0.6)\n",
    "ax.grid(False)\n",
    "ax = set_ticks(ax, xticks_mode='log', yticks_mode=None, yticks=[0.0, 0.1, 0.2, 0.3, 0.4, 0.5])\n",
    "\n",
    "\n",
    "handles, labels = ax.get_legend_handles_labels()\n",
    "handles, labels = handles[-7:], labels[-7:]\n",
    "ax.legend(handles, labels, loc='lower right')\n",
    "# ax.legend().remove()\n",
    "\n",
    "\n",
    "ax.spines[['right', 'top']].set_visible(False)\n",
    "    \n",
    "plt.tight_layout()\n",
    "\n",
    "\n",
    "figures_dir = '../figures'\n",
    "fig_name = 'fig4_compute_chinchilla'\n",
    "formats = ['pdf', 'png', 'svg']\n",
    "save_figs(figures_dir, fig_name, formats=formats)"
   ]
  },
  {
   "cell_type": "code",
   "execution_count": null,
   "metadata": {},
   "outputs": [],
   "source": []
  },
  {
   "cell_type": "code",
   "execution_count": null,
   "metadata": {},
   "outputs": [],
   "source": []
  }
 ],
 "metadata": {
  "kernelspec": {
   "display_name": "brain",
   "language": "python",
   "name": "python3"
  },
  "language_info": {
   "codemirror_mode": {
    "name": "ipython",
    "version": 3
   },
   "file_extension": ".py",
   "mimetype": "text/x-python",
   "name": "python",
   "nbconvert_exporter": "python",
   "pygments_lexer": "ipython3",
   "version": "3.11.10"
  }
 },
 "nbformat": 4,
 "nbformat_minor": 2
}
