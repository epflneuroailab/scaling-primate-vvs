{
 "cells": [
  {
   "cell_type": "code",
   "execution_count": null,
   "metadata": {},
   "outputs": [],
   "source": [
    "%load_ext autoreload\n",
    "%autoreload 2"
   ]
  },
  {
   "cell_type": "code",
   "execution_count": null,
   "metadata": {},
   "outputs": [],
   "source": [
    "from pathlib import Path\n",
    "import sys\n",
    "import pickle\n",
    "\n",
    "import numpy as np\n",
    "import pandas as pd\n",
    "import matplotlib.pyplot as plt\n",
    "import seaborn as sns\n",
    "\n"
   ]
  },
  {
   "cell_type": "code",
   "execution_count": null,
   "metadata": {},
   "outputs": [],
   "source": [
    "repo_dir = Path('../..')"
   ]
  },
  {
   "cell_type": "code",
   "execution_count": null,
   "metadata": {},
   "outputs": [],
   "source": [
    "if str(repo_dir) not in sys.path:\n",
    "    sys.path.append(str(repo_dir))\n",
    "    \n",
    "from analysis.curve_fitting.src.fitting_functions import LOSS_FUNCTIONS\n",
    "from analysis.curve_fitting.src.utils import apply_filters, load_yaml, convert_loss_parameters, convert_loss_parameters_batch\n",
    "\n",
    "from visualization.src.utils import COLOR_PALETTES, save_figs\n",
    "from visualization.src.visualize import plot_reg, plot_reg_bivariate, plot_confidence_intervals\n",
    "\n"
   ]
  },
  {
   "cell_type": "code",
   "execution_count": null,
   "metadata": {},
   "outputs": [],
   "source": []
  },
  {
   "cell_type": "code",
   "execution_count": null,
   "metadata": {},
   "outputs": [],
   "source": [
    "args = {\n",
    "    'results_csv': repo_dir / 'results' / 'benchmark_scores_local.csv',\n",
    "}"
   ]
  },
  {
   "cell_type": "code",
   "execution_count": null,
   "metadata": {},
   "outputs": [],
   "source": [
    "results_csv = args['results_csv']\n",
    "\n",
    "df_results = pd.read_csv(results_csv)\n",
    "df_results['total_flops'] = df_results['flops'] * df_results['n_samples_seen']"
   ]
  },
  {
   "cell_type": "markdown",
   "metadata": {},
   "source": [
    "## Load Experiment Configuration"
   ]
  },
  {
   "cell_type": "code",
   "execution_count": null,
   "metadata": {},
   "outputs": [],
   "source": [
    "analysis_dir = repo_dir / 'analysis'\n",
    "results_dir = analysis_dir / 'curve_fitting/fitting_results'"
   ]
  },
  {
   "cell_type": "code",
   "execution_count": null,
   "metadata": {},
   "outputs": [],
   "source": [
    "yaml_config_behavior = analysis_dir / 'curve_fitting/configs/compute/compute_behavior.yaml'\n",
    "yaml_config_neuro = analysis_dir / 'curve_fitting/configs/compute/compute_neuro.yaml'\n",
    "\n",
    "\n",
    "config_behavior = load_yaml(yaml_config_behavior)\n",
    "config_neuro = load_yaml(yaml_config_neuro)"
   ]
  },
  {
   "cell_type": "code",
   "execution_count": null,
   "metadata": {},
   "outputs": [],
   "source": [
    "L_fit = config_neuro['fitting_parameters']['loss_function']\n",
    "L_viz = config_neuro['visualization']['loss_function']\n",
    "x_scaler = float(config_behavior['fitting_parameters'].get('X_scaler', 1e13))\n",
    "\n",
    "assert L_fit == config_behavior['fitting_parameters']['loss_function']\n",
    "assert L_viz == config_behavior['visualization']['loss_function']\n"
   ]
  },
  {
   "cell_type": "markdown",
   "metadata": {},
   "source": [
    "## Apply Data Filters"
   ]
  },
  {
   "cell_type": "code",
   "execution_count": null,
   "metadata": {},
   "outputs": [],
   "source": [
    "df_behavior = apply_filters(df_results, config_behavior.get('data_filters', {}))\n",
    "df_neuro = apply_filters(df_results, config_neuro.get('data_filters', {}))"
   ]
  },
  {
   "cell_type": "markdown",
   "metadata": {},
   "source": [
    "## Load Fitting Results"
   ]
  },
  {
   "cell_type": "markdown",
   "metadata": {},
   "source": [
    "#### Neuro"
   ]
  },
  {
   "cell_type": "code",
   "execution_count": null,
   "metadata": {},
   "outputs": [],
   "source": [
    "experiment_name = 'compute_neuro'\n",
    "with open(results_dir / experiment_name / 'results.pkl', 'rb') as f:\n",
    "    results_neuro = pickle.load(f)\n",
    "\n",
    "optimized_params_neuro = convert_loss_parameters(results_neuro['optimized_parameters'], L_fit, L_viz)\n",
    "\n",
    "# Convert bootstrapped parameters\n",
    "opt_params_boot_neuro = results_neuro['optimized_parameters_bootstrapped']\n",
    "opt_params_boot_neuro = convert_loss_parameters_batch(\n",
    "    params=opt_params_boot_neuro,\n",
    "    src_loss=L_fit,\n",
    "    dst_loss=L_viz\n",
    ")"
   ]
  },
  {
   "cell_type": "markdown",
   "metadata": {},
   "source": [
    "#### Behavior"
   ]
  },
  {
   "cell_type": "code",
   "execution_count": null,
   "metadata": {},
   "outputs": [],
   "source": [
    "experiment_name = 'compute_behavior'\n",
    "with open(results_dir / experiment_name / 'results.pkl', 'rb') as f:\n",
    "    results_behavior = pickle.load(f)\n",
    "    \n",
    "optimized_params_behavior = convert_loss_parameters(results_behavior['optimized_parameters'], L_fit, L_viz)\n",
    "\n",
    "# Convert bootstrapped parameters\n",
    "opt_params_boot_behavior = results_behavior['optimized_parameters_bootstrapped']\n",
    "opt_params_boot_behavior = convert_loss_parameters_batch(\n",
    "    params=opt_params_boot_behavior,\n",
    "    src_loss=L_fit,\n",
    "    dst_loss=L_viz\n",
    ")"
   ]
  },
  {
   "cell_type": "markdown",
   "metadata": {},
   "source": [
    "## Visualize"
   ]
  },
  {
   "cell_type": "code",
   "execution_count": null,
   "metadata": {},
   "outputs": [],
   "source": []
  },
  {
   "cell_type": "markdown",
   "metadata": {},
   "source": [
    "#### Plotting settings"
   ]
  },
  {
   "cell_type": "code",
   "execution_count": null,
   "metadata": {},
   "outputs": [],
   "source": [
    "X = df_neuro.total_flops.values / x_scaler\n",
    "L = LOSS_FUNCTIONS[L_viz]\n",
    "\n",
    "fig_multiplier = 0.75\n",
    "fig_multiplier = 0.5\n",
    "x_extend = 10\n",
    "X_str = r'$$\\tilde{C}$$'\n",
    "linewidth = 3.0\n",
    "alpha_scatter = 0.2\n",
    "alpha_ci = 0.2\n",
    "alpha_fit = 1.0\n",
    "figsize = (12, 8)\n",
    "figsize = (fig_multiplier * figsize[0], fig_multiplier * figsize[1])\n",
    "\n",
    "color_palaette = COLOR_PALETTES['regions']\n",
    "color_1, color_2 = color_palaette[0], color_palaette[-1]"
   ]
  },
  {
   "cell_type": "markdown",
   "metadata": {},
   "source": [
    "#### Plot"
   ]
  },
  {
   "cell_type": "code",
   "execution_count": null,
   "metadata": {},
   "outputs": [],
   "source": [
    "sns.set_theme(style='whitegrid')\n",
    "sns.set_theme(style='ticks')\n",
    "\n",
    "\n",
    "fig, axes = plt.subplots(1, 1, figsize=figsize, dpi=300)\n",
    "ax = axes\n",
    "\n",
    "### Neuro\n",
    "df_region = df_neuro\n",
    "color = color_1\n",
    "sns.scatterplot(data=df_region, x='total_flops', y='score', ax=ax, color=color, alpha=alpha_scatter)\n",
    "plot_reg(X, optimized_params_neuro, L, ax, color=color, x_extend=x_extend, linestyle='-', X_str=X_str, x_scaler=x_scaler, show_x_scaler=False, linewidth=linewidth, legend=False, alpha=alpha_fit)\n",
    "plot_confidence_intervals(X, opt_params_boot_neuro, L, ax, color=color, x_scaler=x_scaler, x_extend=x_extend, percentile=95.0, invert_y=True, alpha=alpha_ci)\n",
    "\n",
    "### Behavioral\n",
    "df_region = df_behavior\n",
    "color = color_2\n",
    "sns.scatterplot(data=df_region, x='total_flops', y='score', ax=ax, color=color, alpha=alpha_scatter)\n",
    "plot_reg(X, optimized_params_behavior, L, ax, color=color, x_extend=x_extend, linestyle='-', X_str=X_str, x_scaler=x_scaler, show_x_scaler=False, linewidth=linewidth, legend=False, alpha=alpha_fit)\n",
    "plot_confidence_intervals(X, opt_params_boot_behavior, L, ax, color=color, x_scaler=x_scaler, x_extend=x_extend, percentile=95.0, invert_y=True, alpha=alpha_ci)\n",
    "\n",
    "\n",
    "### Formatting\n",
    "ax.set_xscale('log')\n",
    "ax.set_xlabel('FLOPs')\n",
    "ax.set_ylabel('Alignment')\n",
    "ax.set_xlabel('Total Flops (C)', fontsize=16, fontweight='bold')\n",
    "ax.set_ylabel('Alignment Score (S)', fontsize=16, fontweight='bold')\n",
    "# ax = set_ticks(ax, xticks_mode='log', yticks_mode=None, yticks=[0.1, 0.2, 0.3, 0.4, 0.5, 0.6])\n",
    "# ax.set_ylim(0, 0.6)\n",
    "ax.grid(False)\n",
    "\n",
    "### Legend\n",
    "handles, labels = ax.get_legend_handles_labels()\n",
    "labels = [\n",
    "    'Neural  Alignment\\n' + labels[0],\n",
    "    'Behavioral  Alignment\\n'  + labels[1]\n",
    "]\n",
    "l1 = ax.legend([handles[0]], [labels[0]], fontsize=12)\n",
    "l2 = ax.legend([handles[1]], [labels[1]], fontsize=12)\n",
    "ax.add_artist(l1)\n",
    "# ax.legend(handles, labels)\n",
    "\n",
    "ax.spines[['right', 'top']].set_visible(False)\n",
    "plt.tight_layout()\n",
    "\n",
    "\n",
    "figures_dir = '../figures'\n",
    "fig_name = 'fig1_compute_behavior_vs_neuro'\n",
    "formats = ['pdf', 'png', 'svg']\n",
    "save_figs(figures_dir, fig_name, formats=formats)"
   ]
  },
  {
   "cell_type": "code",
   "execution_count": null,
   "metadata": {},
   "outputs": [],
   "source": []
  },
  {
   "cell_type": "code",
   "execution_count": null,
   "metadata": {},
   "outputs": [],
   "source": []
  }
 ],
 "metadata": {
  "kernelspec": {
   "display_name": "brain",
   "language": "python",
   "name": "python3"
  },
  "language_info": {
   "codemirror_mode": {
    "name": "ipython",
    "version": 3
   },
   "file_extension": ".py",
   "mimetype": "text/x-python",
   "name": "python",
   "nbconvert_exporter": "python",
   "pygments_lexer": "ipython3",
   "version": "3.11.10"
  }
 },
 "nbformat": 4,
 "nbformat_minor": 2
}
