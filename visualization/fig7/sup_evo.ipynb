{
 "cells": [
  {
   "cell_type": "code",
   "execution_count": null,
   "metadata": {},
   "outputs": [],
   "source": [
    "%load_ext autoreload\n",
    "%autoreload 2"
   ]
  },
  {
   "cell_type": "code",
   "execution_count": null,
   "metadata": {},
   "outputs": [],
   "source": [
    "from pathlib import Path\n",
    "import sys\n",
    "import pickle\n",
    "from itertools import product\n",
    "\n",
    "import numpy as np\n",
    "import pandas as pd\n",
    "import scipy.stats as stats\n",
    "\n",
    "from tqdm.auto import tqdm\n",
    "import matplotlib.pyplot as plt\n",
    "from matplotlib.colors import LogNorm\n",
    "import seaborn as sns\n",
    "\n",
    "\n",
    "sns.set_theme(style='whitegrid')\n",
    "sns.set_theme(style='ticks')\n"
   ]
  },
  {
   "cell_type": "code",
   "execution_count": null,
   "metadata": {},
   "outputs": [],
   "source": [
    "repo_dir = Path('../..')"
   ]
  },
  {
   "cell_type": "code",
   "execution_count": null,
   "metadata": {},
   "outputs": [],
   "source": [
    "if str(repo_dir) not in sys.path:\n",
    "    sys.path.append(str(repo_dir))\n",
    "    \n",
    "from analysis.curve_fitting.src.fitting_functions import LOSS_FUNCTIONS\n",
    "from analysis.curve_fitting.src.utils import apply_filters, load_yaml, convert_loss_parameters, convert_loss_parameters_batch\n",
    "\n",
    "from visualization.src.utils import COLOR_PALETTES, set_ticks, save_figs, COLORS\n",
    "from visualization.src.visualize import plot_reg, plot_reg_bivariate, plot_confidence_intervals\n"
   ]
  },
  {
   "cell_type": "code",
   "execution_count": null,
   "metadata": {},
   "outputs": [],
   "source": [
    "args = {\n",
    "    'results_csv': repo_dir / 'results' / 'benchmark_scores.csv',\n",
    "    'results_csv_ckpts': repo_dir / 'results' / 'benchmark_scores_ckpts.csv',\n",
    "}"
   ]
  },
  {
   "cell_type": "code",
   "execution_count": null,
   "metadata": {},
   "outputs": [],
   "source": [
    "results_csv = args['results_csv']\n",
    "df_results = pd.read_csv(results_csv)\n",
    "\n",
    "results_csv_ckpts = args['results_csv_ckpts']\n",
    "df_results_ckpts = pd.read_csv(results_csv_ckpts)"
   ]
  },
  {
   "cell_type": "markdown",
   "metadata": {},
   "source": [
    "## Experiment Configuration"
   ]
  },
  {
   "cell_type": "markdown",
   "metadata": {},
   "source": [
    "## Apply Data Filters"
   ]
  },
  {
   "cell_type": "code",
   "execution_count": null,
   "metadata": {},
   "outputs": [],
   "source": [
    "df_ckpts = df_results_ckpts[\n",
    "    (df_results_ckpts['is_pretrained'] == False) &\n",
    "    (df_results_ckpts['is_random'] == False) &\n",
    "    (df_results_ckpts['is_ssl'] == False) &\n",
    "    (df_results_ckpts['is_ablation'] == False)\n",
    "    # (df_results_ckpts['is_adv'] == False)\n",
    "]\n"
   ]
  },
  {
   "cell_type": "code",
   "execution_count": null,
   "metadata": {},
   "outputs": [],
   "source": [
    "df_ckpts_avg = df_ckpts.groupby(['model_id', 'arch', 'dataset', 'arch_family', 'ckpt', 'n_samples_seen', 'n_params']).agg({'score':'mean'}).reset_index()"
   ]
  },
  {
   "cell_type": "markdown",
   "metadata": {},
   "source": [
    "## Visualize"
   ]
  },
  {
   "cell_type": "markdown",
   "metadata": {},
   "source": [
    "#### Plotting settings"
   ]
  },
  {
   "cell_type": "code",
   "execution_count": null,
   "metadata": {},
   "outputs": [],
   "source": [
    "linewidth = 3.0\n",
    "alpha_scatter = .5\n",
    "\n",
    "\n",
    "\n",
    "color_palette = COLOR_PALETTES['models']\n",
    "arch2colorid = {\n",
    "    'ResNet': 5,\n",
    "    'EfficientNet': 4,\n",
    "    'ConvNeXt': 2,\n",
    "    'ViT': 3\n",
    "}\n",
    "\n",
    "color_palette_regions = COLOR_PALETTES['regions']"
   ]
  },
  {
   "cell_type": "code",
   "execution_count": null,
   "metadata": {},
   "outputs": [],
   "source": []
  },
  {
   "cell_type": "code",
   "execution_count": null,
   "metadata": {},
   "outputs": [],
   "source": [
    "\n",
    "\n",
    "fig_multiplier = 0.7\n",
    "figsize = (10, 6)\n",
    "figsize = (fig_multiplier * figsize[0], fig_multiplier * figsize[1])\n",
    "\n",
    "fig, axes = plt.subplots(1, 1, figsize=figsize, dpi=300)\n",
    "ax = axes\n",
    "\n",
    "\n",
    "\n",
    "\n",
    "data_plot = df_ckpts_avg.copy()\n",
    "data_plot.rename(columns={'arch_family':'Architecture'}, inplace=True)\n",
    "\n",
    "color_palette_ = [color_palette[arch2colorid[arch]] for arch in data_plot['Architecture'].unique()]\n",
    "sns.scatterplot(data=data_plot, x='ckpt', y='score', style='Architecture', hue='Architecture', ax=ax, palette=color_palette_, s=10, alpha=alpha_scatter, legend=False)\n",
    "sns.lineplot(data=data_plot, x='ckpt', y='score', style='Architecture', hue='Architecture', ax=ax, linewidth=linewidth, palette=color_palette_)\n",
    "# sns.lineplot(data=data_plot, x='ckpt', y='score', style='arch', hue='Architecture', ax=ax, linewidth=linewidth, palette=color_palette_)\n",
    "\n",
    "### Formatting\n",
    "ax.set_xlabel('Training Epoch', fontsize=16, fontweight='bold')\n",
    "ax.set_ylabel('Alignment Score (S)', fontsize=16, fontweight='bold')\n",
    "ax.set_title('Alignment During Supervised Training', fontsize=20, fontweight='bold')\n",
    "ax = set_ticks(ax, xticks_mode='log', yticks_mode=None, yticks=[0.0, 0.1, 0.2, 0.3, 0.4, 0.5])\n",
    "\n",
    "handles, labels = ax.get_legend_handles_labels()\n",
    "# h, l = handles[0], labels[0]\n",
    "handles, labels = handles[:5], labels[:5]\n",
    "ax.legend(handles, labels, loc='lower right')\n",
    "\n",
    "\n",
    "ax.set_xscale('log')\n",
    "\n",
    "\n",
    "\n",
    "ax.spines[['right', 'top']].set_visible(False)\n",
    "plt.tight_layout()\n",
    "\n",
    "\n",
    "figures_dir = '../figures'\n",
    "fig_name = 'fig7_sup'\n",
    "formats = ['pdf', 'png', 'svg']\n",
    "save_figs(figures_dir, fig_name, formats=formats)"
   ]
  },
  {
   "cell_type": "code",
   "execution_count": null,
   "metadata": {},
   "outputs": [],
   "source": [
    "figsize = (15, 9)\n",
    "fig_multiplier = 1\n",
    "figsize = (fig_multiplier * figsize[0], fig_multiplier * figsize[1])\n",
    "\n",
    "\n",
    "fig, axes = plt.subplots(2, 2, figsize=figsize, dpi=300)\n",
    "for arch_family, ax in zip(['ResNet', 'EfficientNet', 'ViT', 'ConvNeXt'], axes.flatten()):\n",
    "\n",
    "    # ax = axes\n",
    "    data_plot = df_ckpts.copy()\n",
    "    \n",
    "    data_plot = data_plot[data_plot.arch_family == arch_family]\n",
    "    # data = data[data.dataset.isin(['imagenet', 'ecoset'])]\n",
    "\n",
    "    data_plot.rename(columns={'arch_family':'Architecture'}, inplace=True)\n",
    "    data_plot.rename(columns={'region':'Region'}, inplace=True)\n",
    "\n",
    "    color = color_palette[arch2colorid[arch_family]]\n",
    "    # sns.lineplot(data=data_plot, x='ckpt', y='score', style='Region', hue='Region', ax=ax, color=color, linewidth=linewidth, palette=color_palette_regions)\n",
    "    sns.lineplot(data=data_plot, x='ckpt', y='score', style='Region', hue='Region', ax=ax, color=color, linewidth=linewidth)\n",
    "\n",
    "    ax.set_xlabel('Training Epoch', fontsize=16, fontweight='bold')\n",
    "    ax.set_ylabel('Alignment Score (S)', fontsize=16, fontweight='bold')\n",
    "    ax.set_title(arch_family, fontsize=18, fontweight='bold')\n",
    "\n",
    "    set_ticks(ax, xticks_mode='log', yticks_mode=None, yticks=[0.0, 0.1, 0.2, 0.3, 0.4, 0.5])\n",
    "    handles, labels = ax.get_legend_handles_labels()\n",
    "    # h, l = handles[0], labels[0]\n",
    "    handles, labels = handles[:5], labels[:5]\n",
    "\n",
    "    if arch_family != 'ConvNeXt':\n",
    "        ax.legend().remove()\n",
    "\n",
    "    ax.set_xscale('log')\n",
    "\n",
    "\n",
    "\n",
    "    \n",
    "ax.legend(bbox_to_anchor=(1.05, 1.05))\n",
    "plt.tight_layout()\n",
    "\n",
    "figures_dir = '../figures'\n",
    "fig_name = 'fig10_sup_regions'\n",
    "formats = ['pdf', 'png', 'svg']\n",
    "save_figs(figures_dir, fig_name, formats=formats)\n"
   ]
  },
  {
   "cell_type": "code",
   "execution_count": null,
   "metadata": {},
   "outputs": [],
   "source": []
  }
 ],
 "metadata": {
  "kernelspec": {
   "display_name": "brain",
   "language": "python",
   "name": "python3"
  },
  "language_info": {
   "codemirror_mode": {
    "name": "ipython",
    "version": 3
   },
   "file_extension": ".py",
   "mimetype": "text/x-python",
   "name": "python",
   "nbconvert_exporter": "python",
   "pygments_lexer": "ipython3",
   "version": "3.11.10"
  }
 },
 "nbformat": 4,
 "nbformat_minor": 2
}
