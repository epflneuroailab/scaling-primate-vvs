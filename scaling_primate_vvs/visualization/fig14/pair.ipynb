{
 "cells": [
  {
   "cell_type": "code",
   "execution_count": null,
   "metadata": {},
   "outputs": [],
   "source": [
    "%load_ext autoreload\n",
    "%autoreload 2"
   ]
  },
  {
   "cell_type": "code",
   "execution_count": null,
   "metadata": {},
   "outputs": [],
   "source": [
    "from pathlib import Path\n",
    "import sys\n",
    "import pickle\n",
    "from itertools import product\n",
    "\n",
    "import numpy as np\n",
    "import pandas as pd\n",
    "import matplotlib.pyplot as plt\n",
    "import seaborn as sns\n",
    "\n",
    "sns.set_theme(style='whitegrid')\n",
    "sns.set_theme(style='ticks')"
   ]
  },
  {
   "cell_type": "code",
   "execution_count": null,
   "metadata": {},
   "outputs": [],
   "source": [
    "repo_dir = Path('../..')"
   ]
  },
  {
   "cell_type": "code",
   "execution_count": null,
   "metadata": {},
   "outputs": [],
   "source": [
    "if str(repo_dir) not in sys.path:\n",
    "    sys.path.append(str(repo_dir))\n",
    "    \n",
    "from analysis.curve_fitting.src.fitting_functions import LOSS_FUNCTIONS\n",
    "from analysis.curve_fitting.src.utils import apply_filters, load_yaml, convert_loss_parameters, convert_loss_parameters_batch\n",
    "\n",
    "from visualization.src.utils import COLOR_PALETTES, set_ticks, COLORS, save_figs\n",
    "from visualization.src.visualize import plot_reg, plot_reg_bivariate, plot_confidence_intervals\n",
    "\n"
   ]
  },
  {
   "cell_type": "code",
   "execution_count": null,
   "metadata": {},
   "outputs": [],
   "source": []
  },
  {
   "cell_type": "code",
   "execution_count": null,
   "metadata": {},
   "outputs": [],
   "source": [
    "args = {\n",
    "    'results_csv': repo_dir / 'results' / 'benchmark_scores.csv',\n",
    "}"
   ]
  },
  {
   "cell_type": "code",
   "execution_count": null,
   "metadata": {},
   "outputs": [],
   "source": [
    "results_csv = args['results_csv']\n",
    "\n",
    "df_results = pd.read_csv(results_csv)"
   ]
  },
  {
   "cell_type": "markdown",
   "metadata": {},
   "source": [
    "## Load Experiment Configuration"
   ]
  },
  {
   "cell_type": "code",
   "execution_count": null,
   "metadata": {},
   "outputs": [],
   "source": [
    "config = {\n",
    "    'data_filters': {\n",
    "        'set_filters': {\n",
    "            'region': [\n",
    "                'V1',\n",
    "                'V2',\n",
    "                'V4',\n",
    "                'IT',\n",
    "                'Behavioral'\n",
    "                ],\n",
    "            'dataset': [\n",
    "                'imagenet',\n",
    "                'ecoset'\n",
    "                ],\n",
    "            },\n",
    "            \n",
    "    'boolean_filters': {\n",
    "        'equals_false': [\n",
    "            'is_pretrained',\n",
    "            'is_random',\n",
    "            'is_ssl',\n",
    "            'is_ablation',\n",
    "            'is_adv',\n",
    "            ],\n",
    "        },\n",
    "    \n",
    "    # 'group_by': {\n",
    "    #     'avg_score': {\n",
    "    #         'keys': [\n",
    "    #             'model_id',\n",
    "    #             'arch',\n",
    "    #             'dataset',\n",
    "    #             'flops',\n",
    "    #             'n_params',\n",
    "    #             'n_samples',\n",
    "    #             'n_samples_seen',\n",
    "    #             'total_flops',\n",
    "    #             'arch_family',\n",
    "    #             'samples_per_class',\n",
    "    #             'adv_method',\n",
    "\n",
    "    #         ],\n",
    "    #         'reduce': {'score': 'mean'}}},\n",
    "\n",
    "    'combine_arch_families': True,\n",
    "    }\n",
    "}\n",
    "\n"
   ]
  },
  {
   "cell_type": "code",
   "execution_count": null,
   "metadata": {},
   "outputs": [],
   "source": []
  },
  {
   "cell_type": "markdown",
   "metadata": {},
   "source": [
    "## Apply Data Filters"
   ]
  },
  {
   "cell_type": "code",
   "execution_count": null,
   "metadata": {},
   "outputs": [],
   "source": [
    "df = apply_filters(df_results, config.get('data_filters', {}))\n"
   ]
  },
  {
   "cell_type": "markdown",
   "metadata": {},
   "source": [
    "## Visualize"
   ]
  },
  {
   "cell_type": "markdown",
   "metadata": {},
   "source": [
    "#### Plotting settings"
   ]
  },
  {
   "cell_type": "code",
   "execution_count": null,
   "metadata": {},
   "outputs": [],
   "source": [
    "linewidth = 3.0\n",
    "alpha_scatter = 1.0\n",
    "alpha_ci = 0.2\n",
    "alpha_fit = 1.0\n",
    "fig_multiplier = 0.7\n",
    "fig_multiplier = 1\n",
    "figsize = (32, 32)\n",
    "figsize = (fig_multiplier * figsize[0], fig_multiplier * figsize[1])\n",
    "\n",
    "color_palaette = COLOR_PALETTES['regions']\n",
    "color = color_palaette[-1]\n",
    "# color = \"#023e8a\""
   ]
  },
  {
   "cell_type": "markdown",
   "metadata": {},
   "source": [
    "#### Grid Plot"
   ]
  },
  {
   "cell_type": "code",
   "execution_count": null,
   "metadata": {},
   "outputs": [],
   "source": [
    "regions =  df['region'].unique()"
   ]
  },
  {
   "cell_type": "code",
   "execution_count": null,
   "metadata": {},
   "outputs": [],
   "source": [
    "data_plot = df.copy()\n",
    "data_plot = data_plot.rename(columns={'dataset':'Dataset', 'arch_family':'Architecture'})\n",
    "\n",
    "# Create a figure and a set of subplots\n",
    "n_benchmarks = len(regions)\n",
    "fig, axes = plt.subplots(\n",
    "    nrows=n_benchmarks, \n",
    "    ncols=n_benchmarks, \n",
    "    figsize=figsize, \n",
    "    dpi=300\n",
    ")\n",
    "# for region_id, (region, benchmark) in enumerate(REGION2BENCHMARKS.items()):\n",
    "for idx, (region1, region2) in enumerate(product(regions, regions)):\n",
    "    ax = axes[idx // n_benchmarks, idx % n_benchmarks]\n",
    "    \n",
    "    i = idx // n_benchmarks\n",
    "    j = idx % n_benchmarks\n",
    "    if j > i:\n",
    "        ax.remove()\n",
    "        continue\n",
    "    elif region1 == region2:\n",
    "        data_region = data_plot[data_plot.region == region1].copy()\n",
    "        # data_region.sort_values(['model_sort'], inplace=True, ascending=True)\n",
    "        sns.scatterplot(data=data_region, x='acc', y='score', ax=ax, markers=True, style='Architecture', color=color)\n",
    "\n",
    "        # Set the labels\n",
    "        ax.set_title(f'{region1} x Accuracy', fontsize=20, fontweight='bold')\n",
    "        ax.set_xlabel(f'Validation Accuracy', fontsize=16, fontweight='bold')\n",
    "        ax.set_ylabel(f'Alignment Score for {region1}', fontsize=16, fontweight='bold')\n",
    "    else:\n",
    "        # Plot the data\n",
    "        data_region1 = data_plot[data_plot.region == region1].copy()\n",
    "        data_region2 = data_plot[data_plot.region == region2].copy()\n",
    "        # data_region1.rename(columns={'score':region1}, inplace=True)\n",
    "        # data_region1[region2] = .rename(columns={'score':region1}, inplace=True)\n",
    "        data_regions = pd.merge(\n",
    "            data_region1, \n",
    "            data_region2, \n",
    "            on=['model_id', 'arch', 'n_samples', 'seed', 'acc', 'Architecture', 'Dataset'], \n",
    "            suffixes=('_1', '_2'),\n",
    "            how='inner'\n",
    "        )\n",
    "        data_regions.rename(columns={'score_1':region1, 'score_2':region2}, inplace=True)\n",
    "        # data_regions.sort_values(['model_sort'], inplace=True, ascending=True)\n",
    "        sns.scatterplot(data=data_regions, x=region2, y=region1, ax=ax, markers=True, style='Architecture', color=color)\n",
    "\n",
    "        # Set the labels\n",
    "        ax.set_title(f'{region1} x {region2}', fontsize=20, fontweight='bold')\n",
    "        ax.set_xlabel(f'Alignment Score for {region2}', fontsize=16, fontweight='bold')\n",
    "        ax.set_ylabel(f'Alignment Score for {region1}', fontsize=16, fontweight='bold')\n",
    "        \n",
    "    # for i, j in product(range(len(REGION2BENCHMARKS)), range(len(REGION2BENCHMARKS))):\n",
    "    #     if j > i:\n",
    "    #         axes[i, j].remove()\n",
    "\n",
    "    # Set the ticks\n",
    "    ax.grid(which='minor', alpha=0.2)\n",
    "    ax.grid(which='major', alpha=0.8)\n",
    "    ax.grid(True)\n",
    "    \n",
    "    # Legend\n",
    "    ax.legend().remove()\n",
    "\n",
    "    # Remove the top and right spines\n",
    "    ax.spines[['right', 'top']].set_visible(False)\n",
    "    \n",
    "    \n",
    "figures_dir = '../figures'\n",
    "fig_name = 'fig14_cartesian'\n",
    "formats = ['pdf', 'png', 'svg']\n",
    "save_figs(figures_dir, fig_name, formats=formats)"
   ]
  },
  {
   "cell_type": "code",
   "execution_count": null,
   "metadata": {},
   "outputs": [],
   "source": []
  },
  {
   "cell_type": "code",
   "execution_count": null,
   "metadata": {},
   "outputs": [],
   "source": []
  },
  {
   "cell_type": "code",
   "execution_count": null,
   "metadata": {},
   "outputs": [],
   "source": []
  },
  {
   "cell_type": "markdown",
   "metadata": {},
   "source": [
    "#### Pairplot"
   ]
  },
  {
   "cell_type": "code",
   "execution_count": null,
   "metadata": {},
   "outputs": [],
   "source": [
    "\n",
    "\n",
    "\n",
    "\n",
    "data_plot = df.copy()\n",
    "data_plot = data_plot.rename(columns={'dataset':'Dataset', 'arch_family':'Architecture'})\n",
    "\n",
    "# Create a figure and a set of subplots\n",
    "# n_benchmarks = len(regions)\n",
    "# fig, axes = plt.subplots(\n",
    "#     nrows=n_benchmarks, \n",
    "#     ncols=n_benchmarks, \n",
    "#     figsize=figsize, \n",
    "#     dpi=300\n",
    "# )\n",
    "# for region_id, (region, benchmark) in enumerate(REGION2BENCHMARKS.items()):\n",
    "data_stacked = []\n",
    "for  model_id, d in data_plot.groupby('model_id'):\n",
    "    regions_scores = d[['region', 'score']].set_index('region').T.reset_index(drop=True)\n",
    "    d = d.iloc[0].to_frame().T.copy()\n",
    "    d = d.drop(columns=['region', 'score', 'benchmark_id', 'benchmark_name']).reset_index(drop=True)\n",
    "    d = pd.concat([d, regions_scores], axis='columns')\n",
    "    d[\"model_id\"] = model_id\n",
    "    data_stacked.append(d)\n",
    "data_stacked = pd.concat(data_stacked, axis='index')\n",
    "    \n",
    "# grid = sns.PairGrid(data_stacked, x_vars=all_regions, y_vars=all_regions, hue='Dataset', palette=DATASET_COLORS)\n",
    "grid = sns.PairGrid(data_stacked, x_vars=regions, y_vars=regions)\n",
    "grid.map_upper(sns.histplot)\n",
    "grid.map_lower(sns.kdeplot, fill=True)\n",
    "grid.map_diag(sns.histplot, kde=True)\n",
    "\n",
    "    \n",
    "plt.tight_layout()\n",
    "\n",
    "\n",
    "figures_dir = '../figures'\n",
    "fig_name = 'fig15_pair'\n",
    "formats = ['pdf', 'png', 'svg']\n",
    "save_figs(figures_dir, fig_name, formats=formats)\n"
   ]
  },
  {
   "cell_type": "code",
   "execution_count": null,
   "metadata": {},
   "outputs": [],
   "source": [
    "df"
   ]
  },
  {
   "cell_type": "code",
   "execution_count": null,
   "metadata": {},
   "outputs": [],
   "source": [
    "# df.model_id.unique()"
   ]
  }
 ],
 "metadata": {
  "kernelspec": {
   "display_name": "brain",
   "language": "python",
   "name": "python3"
  },
  "language_info": {
   "codemirror_mode": {
    "name": "ipython",
    "version": 3
   },
   "file_extension": ".py",
   "mimetype": "text/x-python",
   "name": "python",
   "nbconvert_exporter": "python",
   "pygments_lexer": "ipython3",
   "version": "3.11.10"
  }
 },
 "nbformat": 4,
 "nbformat_minor": 2
}
