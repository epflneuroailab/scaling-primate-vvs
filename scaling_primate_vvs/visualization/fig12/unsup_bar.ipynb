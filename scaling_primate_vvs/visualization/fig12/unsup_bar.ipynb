{
 "cells": [
  {
   "cell_type": "code",
   "execution_count": null,
   "metadata": {},
   "outputs": [],
   "source": [
    "%load_ext autoreload\n",
    "%autoreload 2"
   ]
  },
  {
   "cell_type": "code",
   "execution_count": null,
   "metadata": {},
   "outputs": [],
   "source": [
    "from pathlib import Path\n",
    "import sys\n",
    "import pickle\n",
    "from itertools import product\n",
    "\n",
    "import numpy as np\n",
    "import pandas as pd\n",
    "import scipy.stats as stats\n",
    "\n",
    "from tqdm.auto import tqdm\n",
    "import matplotlib.pyplot as plt\n",
    "from matplotlib.colors import LogNorm\n",
    "import seaborn as sns\n",
    "\n",
    "\n",
    "sns.set_theme(style='whitegrid')\n",
    "sns.set_theme(style='ticks')\n",
    "\n"
   ]
  },
  {
   "cell_type": "code",
   "execution_count": null,
   "metadata": {},
   "outputs": [],
   "source": [
    "repo_dir = Path('../..')"
   ]
  },
  {
   "cell_type": "code",
   "execution_count": null,
   "metadata": {},
   "outputs": [],
   "source": [
    "if str(repo_dir) not in sys.path:\n",
    "    sys.path.append(str(repo_dir))\n",
    "    \n",
    "from analysis.curve_fitting.src.fitting_functions import LOSS_FUNCTIONS\n",
    "from analysis.curve_fitting.src.utils import apply_filters, load_yaml, convert_loss_parameters, convert_loss_parameters_batch\n",
    "\n",
    "from visualization.src.utils import COLOR_PALETTES, set_ticks, save_figs, COLORS\n",
    "from visualization.src.visualize import plot_reg, plot_reg_bivariate, plot_confidence_intervals\n"
   ]
  },
  {
   "cell_type": "code",
   "execution_count": null,
   "metadata": {},
   "outputs": [],
   "source": [
    "args = {\n",
    "    'results_csv': repo_dir / 'results' / 'benchmark_scores.csv',\n",
    "    'results_csv_ckpts': repo_dir / 'results' / 'benchmark_scores_ckpts.csv',\n",
    "}"
   ]
  },
  {
   "cell_type": "code",
   "execution_count": null,
   "metadata": {},
   "outputs": [],
   "source": [
    "results_csv = args['results_csv']\n",
    "df_results = pd.read_csv(results_csv)\n",
    "\n",
    "results_csv_ckpts = args['results_csv_ckpts']\n",
    "df_results_ckpts = pd.read_csv(results_csv_ckpts)"
   ]
  },
  {
   "cell_type": "markdown",
   "metadata": {},
   "source": [
    "## Experiment Configuration"
   ]
  },
  {
   "cell_type": "code",
   "execution_count": null,
   "metadata": {},
   "outputs": [],
   "source": [
    "config = {\n",
    "    'data_filters': {\n",
    "        'set_filters': {\n",
    "            'region': [\n",
    "                'V1',\n",
    "                'V2',\n",
    "                'V4',\n",
    "                'IT',\n",
    "                'Behavioral'\n",
    "                ],\n",
    "            'dataset': [\n",
    "                'imagenet',\n",
    "                ],\n",
    "            'arch': [\n",
    "                'resnet18', \n",
    "                'resnet50', \n",
    "                'deit_small', \n",
    "                'deit_base', \n",
    "                'vit_small', \n",
    "                'vit_base',\n",
    "                ],\n",
    "            'samples_per_class': [0]\n",
    "            },\n",
    "            \n",
    "    'boolean_filters': {\n",
    "        'equals_false': [\n",
    "            'is_pretrained',\n",
    "            'is_random',\n",
    "            # 'is_ssl',\n",
    "            'is_ablation',\n",
    "            'is_adv',\n",
    "            ],\n",
    "        },\n",
    "    \n",
    "    # 'group_by': {\n",
    "    #     'avg_score': {\n",
    "    #         'keys': [\n",
    "    #             'model_id',\n",
    "    #             'arch',\n",
    "    #             'dataset',\n",
    "    #             'flops',\n",
    "    #             'n_params',\n",
    "    #             'n_samples',\n",
    "    #             'n_samples_seen',\n",
    "    #             'total_flops',\n",
    "    #             'arch_family',\n",
    "    #             'samples_per_class',\n",
    "    #             'adv_method',\n",
    "\n",
    "    #         ],\n",
    "    #         'reduce': {'score': 'mean'}}},\n",
    "\n",
    "    'combine_arch_families': True,\n",
    "    }\n",
    "}"
   ]
  },
  {
   "cell_type": "markdown",
   "metadata": {},
   "source": [
    "## Apply Data Filters"
   ]
  },
  {
   "cell_type": "code",
   "execution_count": null,
   "metadata": {},
   "outputs": [],
   "source": [
    "df = apply_filters(df_results, config['data_filters'])"
   ]
  },
  {
   "cell_type": "code",
   "execution_count": null,
   "metadata": {},
   "outputs": [],
   "source": [
    "model_sort = {\n",
    "        'AlexNet': 0, 'CORnet-S':1, 'EfficientNet': 2, 'ConvNeXt': 3, 'ViT':4, 'ResNet':6, 'ResNetFlex':5\n",
    "}\n",
    "df['model_sort'] = df.arch_family.map(model_sort)\n",
    "df.sort_values(['model_sort'], inplace=True, ascending=True)"
   ]
  },
  {
   "cell_type": "code",
   "execution_count": null,
   "metadata": {},
   "outputs": [],
   "source": [
    "df.loc[df.arch=='deit_small', 'arch'] = 'ViT-S'\n",
    "df.loc[df.arch=='vit_small', 'arch'] = 'ViT-S'\n",
    "df.loc[df.arch=='deit_base', 'arch'] = 'ViT-B'\n",
    "df.loc[df.arch=='vit_base', 'arch'] = 'ViT-B'\n",
    "df.loc[df.arch=='resnet18', 'arch'] = 'ResNet-18'\n",
    "df.loc[df.arch=='resnet50', 'arch'] = 'ResNet-50'\n",
    "\n",
    "df.loc[df.ssl_method=='dino', 'ssl_method'] = 'DINO'\n",
    "df.loc[df.ssl_method=='simclr', 'ssl_method'] = 'SimCLR'\n",
    "df.loc[df.ssl_method.isna(), 'ssl_method'] = 'Supervised'\n",
    "\n",
    "sort_methods = {\n",
    "    'Supervised': 0,\n",
    "    'SimCLR': 1,\n",
    "    'DINO': 2,\n",
    "}"
   ]
  },
  {
   "cell_type": "code",
   "execution_count": null,
   "metadata": {},
   "outputs": [],
   "source": [
    "# sorted(df_ckpts.model_id.unique())"
   ]
  },
  {
   "cell_type": "code",
   "execution_count": null,
   "metadata": {},
   "outputs": [],
   "source": [
    "# df_ssl.model_id.unique()"
   ]
  },
  {
   "cell_type": "markdown",
   "metadata": {},
   "source": [
    "## Visualize"
   ]
  },
  {
   "cell_type": "markdown",
   "metadata": {},
   "source": [
    "#### Plotting settings"
   ]
  },
  {
   "cell_type": "code",
   "execution_count": null,
   "metadata": {},
   "outputs": [],
   "source": [
    "linewidth = 3.0\n",
    "fig_multiplier = 0.7\n",
    "fig_multiplier = 1\n",
    "figsize = (10, 16)\n",
    "figsize = (10, 10)\n",
    "figsize = (fig_multiplier * figsize[0], fig_multiplier * figsize[1])\n",
    "\n",
    "\n",
    "color_palette = COLOR_PALETTES['models']\n",
    "# color_palette_regions = COLOR_PALETTES['regions']\n",
    "color_palette = color_palette[::2]"
   ]
  },
  {
   "cell_type": "code",
   "execution_count": null,
   "metadata": {},
   "outputs": [],
   "source": []
  },
  {
   "cell_type": "code",
   "execution_count": null,
   "metadata": {},
   "outputs": [],
   "source": [
    "\n",
    "fig, axes = plt.subplots(3, 1, figsize=figsize, dpi=300)\n",
    "ax = axes[0]\n",
    "\n",
    "df_plot = df.copy()\n",
    "df_plot = df_plot.groupby(['model_id','n_samples', 'dataset', 'arch', 'arch_family', 'seed', 'ssl_method']).agg({'score':'mean'}).reset_index()\n",
    "df_plot['sort'] = df_plot['ssl_method'].map(sort_methods)\n",
    "df_plot.sort_values(['sort'], inplace=True)\n",
    "# dataset_sort = {k:i for i, k in enumerate(dataset_pretty.values())}\n",
    "# Sort as in dataset_pretty\n",
    "# data = data.sort_values('dataset', key=lambda x: x.map(dataset_sort))\n",
    "\n",
    "# data['score'] = 1 - data['score']\n",
    "\n",
    "data_plot = df_plot.rename(columns={'dataset':'Dataset', 'arch_family':'Architecture'})\n",
    "# data_plot.sort_values('Architecture', inplace=True)\n",
    "sns.barplot(data=data_plot, x='arch', y='score', hue='ssl_method', ax=ax, palette=color_palette)\n",
    "\n",
    "ax.set_xlabel('Model', fontsize=16, fontweight='bold')\n",
    "ax.set_ylabel('Alignment Score (S)', fontsize=16, fontweight='bold')\n",
    "ax.set_title(f'Effect of Learning Paradigms', fontsize=20, fontweight='bold')\n",
    "# ax.set_title('ResNet18 Aligment Across Datasets', fontsize=20, fontweight='bold')\n",
    "# ax.set_ylabel('')\n",
    "ax.legend(loc='upper right', title='Training Method')\n",
    "ax.get_legend().remove()\n",
    "ax.set_ylim([0.3, 0.45])\n",
    "ax.grid(True)\n",
    "\n",
    "\n",
    "# ax.plot(compute, pred_losses)\n",
    "ax.spines[['right', 'top']].set_visible(False)\n",
    "# ax.set_xticks(ax.get_xticks(), ax.get_xticklabels(), rotation=45, ha='right')\n",
    "labels = ax.get_xticklabels()\n",
    "\n",
    "ax.set_xticks(ax.get_xticks(), labels, rotation=30, ha='right', rotation_mode='anchor')\n",
    "ax.set_ylim([0.1, 0.61])\n",
    "    \n",
    "\n",
    "\n",
    "df_plot = df.copy()\n",
    "for idx, model_arch in enumerate(['ViT-S', 'ResNet-50']):\n",
    "    ax = axes[idx+1]\n",
    "    data = df_plot[df_plot.arch == model_arch]\n",
    "\n",
    "\n",
    "    data_plot = data.rename(columns={'dataset':'Dataset', 'arch_family':'Architecture'})\n",
    "    data_plot['sort'] = data_plot['region'].map({\n",
    "        'V1': 0,\n",
    "        'V2': 1,\n",
    "        'V4': 2,\n",
    "        'IT': 3,\n",
    "        'Behavioral': 4,\n",
    "    })\n",
    "    data_plot['sort_methods'] = data_plot['ssl_method'].map(sort_methods)\n",
    "    data_plot.sort_values(['sort_methods', 'sort'], inplace=True)\n",
    "    sns.barplot(data=data_plot, x='region', y='score', hue='ssl_method', ax=ax, palette=color_palette)\n",
    "\n",
    "    ax.set_xlabel('Region', fontsize=16, fontweight='bold')\n",
    "    ax.set_ylabel('Alignment Score (S)', fontsize=16, fontweight='bold')\n",
    "    ax.set_title(f'{model_arch} Aligment', fontsize=20, fontweight='bold')\n",
    "    # ax.set_ylabel('')\n",
    "    ax.legend(loc='upper left', title='Training Method')\n",
    "    ax.grid(True)\n",
    "\n",
    "    # ax.plot(compute, pred_losses)\n",
    "    ax.spines[['right', 'top']].set_visible(False)\n",
    "    # ax.set_xticks(ax.get_xticks(), ax.get_xticklabels(), rotation=45, ha='right')\n",
    "    labels = ax.get_xticklabels()\n",
    "    ax.set_ylim([0.1, 0.61])\n",
    "\n",
    "    ax.set_xticks(ax.get_xticks(), labels, rotation=30, ha='right', rotation_mode='anchor')\n",
    "    \n",
    "    if idx == 0:\n",
    "        ax.legend().remove()\n",
    "\n",
    "plt.tight_layout()\n",
    "\n",
    "\n",
    "figures_dir = '../figures'\n",
    "fig_name = 'fig12_unsup_bar'\n",
    "formats = ['pdf', 'png', 'svg']\n",
    "save_figs(figures_dir, fig_name, formats=formats)"
   ]
  },
  {
   "cell_type": "code",
   "execution_count": null,
   "metadata": {},
   "outputs": [],
   "source": []
  }
 ],
 "metadata": {
  "kernelspec": {
   "display_name": "brain",
   "language": "python",
   "name": "python3"
  },
  "language_info": {
   "codemirror_mode": {
    "name": "ipython",
    "version": 3
   },
   "file_extension": ".py",
   "mimetype": "text/x-python",
   "name": "python",
   "nbconvert_exporter": "python",
   "pygments_lexer": "ipython3",
   "version": "3.11.10"
  }
 },
 "nbformat": 4,
 "nbformat_minor": 2
}
