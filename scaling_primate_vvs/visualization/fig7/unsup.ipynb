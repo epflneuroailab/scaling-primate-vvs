{
 "cells": [
  {
   "cell_type": "code",
   "execution_count": null,
   "metadata": {},
   "outputs": [],
   "source": [
    "%load_ext autoreload\n",
    "%autoreload 2"
   ]
  },
  {
   "cell_type": "code",
   "execution_count": null,
   "metadata": {},
   "outputs": [],
   "source": [
    "from pathlib import Path\n",
    "import sys\n",
    "import pickle\n",
    "from itertools import product\n",
    "\n",
    "import numpy as np\n",
    "import pandas as pd\n",
    "import scipy.stats as stats\n",
    "\n",
    "from tqdm.auto import tqdm\n",
    "import matplotlib.pyplot as plt\n",
    "from matplotlib.colors import LogNorm\n",
    "import seaborn as sns\n",
    "\n",
    "\n",
    "sns.set_theme(style='whitegrid')\n",
    "sns.set_theme(style='ticks')\n",
    "\n"
   ]
  },
  {
   "cell_type": "code",
   "execution_count": null,
   "metadata": {},
   "outputs": [],
   "source": [
    "repo_dir = Path('../..')"
   ]
  },
  {
   "cell_type": "code",
   "execution_count": null,
   "metadata": {},
   "outputs": [],
   "source": [
    "if str(repo_dir) not in sys.path:\n",
    "    sys.path.append(str(repo_dir))\n",
    "    \n",
    "from analysis.curve_fitting.src.fitting_functions import LOSS_FUNCTIONS\n",
    "from analysis.curve_fitting.src.utils import apply_filters, load_yaml, convert_loss_parameters, convert_loss_parameters_batch\n",
    "\n",
    "from visualization.src.utils import COLOR_PALETTES, set_ticks, save_figs, COLORS\n",
    "from visualization.src.visualize import plot_reg, plot_reg_bivariate, plot_confidence_intervals\n"
   ]
  },
  {
   "cell_type": "code",
   "execution_count": null,
   "metadata": {},
   "outputs": [],
   "source": [
    "args = {\n",
    "    'results_csv': repo_dir / 'results' / 'benchmark_scores.csv',\n",
    "    'results_csv_ckpts': repo_dir / 'results' / 'benchmark_scores_ckpts.csv',\n",
    "}"
   ]
  },
  {
   "cell_type": "code",
   "execution_count": null,
   "metadata": {},
   "outputs": [],
   "source": [
    "results_csv = args['results_csv']\n",
    "df_results = pd.read_csv(results_csv)\n",
    "\n",
    "results_csv_ckpts = args['results_csv_ckpts']\n",
    "df_results_ckpts = pd.read_csv(results_csv_ckpts)"
   ]
  },
  {
   "cell_type": "markdown",
   "metadata": {},
   "source": [
    "## Experiment Configuration"
   ]
  },
  {
   "cell_type": "markdown",
   "metadata": {},
   "source": [
    "## Apply Data Filters"
   ]
  },
  {
   "cell_type": "code",
   "execution_count": null,
   "metadata": {},
   "outputs": [],
   "source": [
    "df_ckpts = df_results_ckpts[\n",
    "    (df_results_ckpts['is_pretrained'] == False) &\n",
    "    (df_results_ckpts['is_random'] == False) &\n",
    "    (df_results_ckpts['is_ablation'] == False)\n",
    "    # (df_results_ckpts['is_adv'] == False)\n",
    "]\n",
    "\n",
    "df_ssl = df_ckpts[df_ckpts['is_ssl'] == True]"
   ]
  },
  {
   "cell_type": "code",
   "execution_count": null,
   "metadata": {},
   "outputs": [],
   "source": [
    "# sorted(df_ckpts.model_id.unique())"
   ]
  },
  {
   "cell_type": "code",
   "execution_count": null,
   "metadata": {},
   "outputs": [],
   "source": [
    "# df_ssl.model_id.unique()"
   ]
  },
  {
   "cell_type": "code",
   "execution_count": null,
   "metadata": {},
   "outputs": [],
   "source": [
    "df = df_ckpts[\n",
    "    df_ckpts.model_id.isin([\n",
    "        'simclr_resnet50_imagenet_full_seed-0',\n",
    "        'simclr_vit_small_imagenet_full_seed-0',\n",
    "        'dino_resnet50_imagenet_full_seed-0',\n",
    "        'dino_vit_small_imagenet_full_seed-0',\n",
    "        'resnet50_imagenet_full',\n",
    "        'deit_small_imagenet_full_seed-0',  \n",
    "    ])\n",
    "].copy()\n",
    "\n",
    "df.arch = df.arch.map({\n",
    "    'resnet50': 'ResNet50',\n",
    "    'resnet18': 'ResNet18',\n",
    "    'vit_small': 'ViT-S',\n",
    "    'vit_base': 'ViT-B',\n",
    "    'deit_small': 'ViT-S',\n",
    "    'deit_base': 'ViT-B',\n",
    "})\n",
    "df.loc[~df.is_ssl, 'ssl_method'] = 'Supervised'\n",
    "\n",
    "df.ssl_method = df.ssl_method.map({\n",
    "    'simclr': 'SimCLR',\n",
    "    'dino': 'DINO',\n",
    "    'Supervised': 'Supervised',\n",
    "})\n",
    "df['Model'] = df.arch\n",
    "df['Learning Method'] = df.ssl_method\n",
    "\n",
    "\n",
    "df"
   ]
  },
  {
   "cell_type": "code",
   "execution_count": null,
   "metadata": {},
   "outputs": [],
   "source": [
    "df_avg = df.groupby(['model_id', 'arch', 'dataset', 'arch_family', 'ckpt', 'n_samples_seen', 'is_ssl', 'ssl_method', 'Learning Method', 'Model']).agg({'score':'mean'}).reset_index()\n",
    "df_avg"
   ]
  },
  {
   "cell_type": "markdown",
   "metadata": {},
   "source": [
    "## Visualize"
   ]
  },
  {
   "cell_type": "markdown",
   "metadata": {},
   "source": [
    "#### Plotting settings"
   ]
  },
  {
   "cell_type": "code",
   "execution_count": null,
   "metadata": {},
   "outputs": [],
   "source": [
    "linewidth = 3.0\n",
    "fig_multiplier = 0.7\n",
    "figsize = (10, 6)\n",
    "figsize = (fig_multiplier * figsize[0], fig_multiplier * figsize[1])\n",
    "\n",
    "\n",
    "color_palette = COLOR_PALETTES['models']\n",
    "color_palette_regions = COLOR_PALETTES['regions']"
   ]
  },
  {
   "cell_type": "code",
   "execution_count": null,
   "metadata": {},
   "outputs": [],
   "source": []
  },
  {
   "cell_type": "code",
   "execution_count": null,
   "metadata": {},
   "outputs": [],
   "source": [
    "fig, axes = plt.subplots(1, 1, figsize=figsize, dpi=300)\n",
    "\n",
    "ax = axes\n",
    "data_plot = df_avg.copy()\n",
    "\n",
    "\n",
    "\n",
    "sns.lineplot(data=data_plot, x='ckpt', y='score', markers=True, style='Model', hue='Learning Method', ax=ax, palette=color_palette[::2], linewidth=linewidth)\n",
    "\n",
    "ax.set_xlabel('Training Epoch', fontsize=16, fontweight='bold')\n",
    "ax.set_ylabel('Alignment Score (S)', fontsize=16, fontweight='bold')\n",
    "ax.set_title('Alignment During Training - SSL', fontsize=20, fontweight='bold')\n",
    "\n",
    "set_ticks(ax, xticks_mode='log', yticks_mode=None, yticks=[0.0, 0.1, 0.2, 0.3, 0.4, 0.5])\n",
    "# handles, labels = ax.get_legend_handles_labels()\n",
    "# labels[0] = \"SSL Method\"\n",
    "# labels[4] = \"Model\"\n",
    "# # # h, l = handles[0], labels[0]\n",
    "# # # handles, labels = handles[:5], labels[:5]\n",
    "# ax.legend(handles, labels, loc='lower right')\n",
    "\n",
    "# ax.legend(loc=\"lower right\")\n",
    "\n",
    "ax.set_xscale('log')\n",
    "\n",
    "\n",
    "\n",
    "\n",
    "ax.spines[['right', 'top']].set_visible(False)\n",
    "plt.tight_layout()\n",
    "\n",
    "\n",
    "figures_dir = '../figures'\n",
    "fig_name = 'fig7_ssl'\n",
    "formats = ['pdf', 'png', 'svg']\n",
    "save_figs(figures_dir, fig_name, formats=formats)"
   ]
  },
  {
   "cell_type": "code",
   "execution_count": null,
   "metadata": {},
   "outputs": [],
   "source": [
    "figsize = (12, 12)\n",
    "figsize = (fig_multiplier * figsize[0], fig_multiplier * figsize[1])\n",
    "fig, axes = plt.subplots(2, 1, figsize=figsize, dpi=300)\n",
    "\n",
    "for idx, model in enumerate(['ResNet50', 'ViT-S']):\n",
    "    ax = axes[idx]\n",
    "    data_plot = df[df.arch == model].copy()\n",
    "\n",
    "\n",
    "    sns.lineplot(data=data_plot, x='ckpt', y='score', markers=True, style='region', hue='Learning Method', ax=ax, palette=color_palette[::2])\n",
    "\n",
    "    ax.set_xlabel('Training Epoch', fontsize=16, fontweight='bold')\n",
    "    ax.set_ylabel('Alignment Score (S)', fontsize=16, fontweight='bold')\n",
    "    ax.set_title(model, fontsize=20, fontweight='bold')\n",
    "\n",
    "    set_ticks(ax, xticks_mode='log', yticks_mode=None, yticks=[0.0, 0.1, 0.2, 0.3, 0.4, 0.5])\n",
    "    ax.legend().remove()\n",
    "\n",
    "\n",
    "\n",
    "    ax.set_xscale('log')\n",
    "\n",
    "handles, labels = ax.get_legend_handles_labels()\n",
    "ax.legend(handles, labels, bbox_to_anchor = (1.05, 1))\n",
    "#                         # borderaxespad  = 0)\n",
    "plt.suptitle('Alignment During Training - Per Region', fontsize=24, fontweight='bold')\n",
    "plt.tight_layout()\n",
    "\n",
    "\n",
    "# figures_dir = '../figures'\n",
    "# fig_name = 'fig11_ssl_regions'\n",
    "# formats = ['pdf', 'png', 'svg']\n",
    "# save_figs(figures_dir, fig_name, formats=formats)"
   ]
  },
  {
   "cell_type": "code",
   "execution_count": null,
   "metadata": {},
   "outputs": [],
   "source": []
  }
 ],
 "metadata": {
  "kernelspec": {
   "display_name": "brain",
   "language": "python",
   "name": "python3"
  },
  "language_info": {
   "codemirror_mode": {
    "name": "ipython",
    "version": 3
   },
   "file_extension": ".py",
   "mimetype": "text/x-python",
   "name": "python",
   "nbconvert_exporter": "python",
   "pygments_lexer": "ipython3",
   "version": "3.11.10"
  }
 },
 "nbformat": 4,
 "nbformat_minor": 2
}
