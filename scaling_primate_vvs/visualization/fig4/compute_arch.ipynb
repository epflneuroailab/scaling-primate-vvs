{
 "cells": [
  {
   "cell_type": "code",
   "execution_count": null,
   "metadata": {},
   "outputs": [],
   "source": [
    "%load_ext autoreload\n",
    "%autoreload 2"
   ]
  },
  {
   "cell_type": "code",
   "execution_count": null,
   "metadata": {},
   "outputs": [],
   "source": [
    "from pathlib import Path\n",
    "import sys\n",
    "import pickle\n",
    "from itertools import product\n",
    "\n",
    "import numpy as np\n",
    "import pandas as pd\n",
    "import matplotlib.pyplot as plt\n",
    "from matplotlib.colors import LogNorm\n",
    "import seaborn as sns\n",
    "\n",
    "sns.set_theme(style='whitegrid')\n",
    "sns.set_theme(style='ticks')"
   ]
  },
  {
   "cell_type": "code",
   "execution_count": null,
   "metadata": {},
   "outputs": [],
   "source": [
    "repo_dir = Path('../..')"
   ]
  },
  {
   "cell_type": "code",
   "execution_count": null,
   "metadata": {},
   "outputs": [],
   "source": [
    "if str(repo_dir) not in sys.path:\n",
    "    sys.path.append(str(repo_dir))\n",
    "    \n",
    "from analysis.curve_fitting.src.fitting_functions import LOSS_FUNCTIONS\n",
    "from analysis.curve_fitting.src.utils import apply_filters, load_yaml, convert_loss_parameters, convert_loss_parameters_batch\n",
    "\n",
    "from visualization.src.utils import COLOR_PALETTES, set_ticks, save_figs\n",
    "from visualization.src.visualize import plot_reg, plot_reg_bivariate, plot_confidence_intervals\n",
    "\n"
   ]
  },
  {
   "cell_type": "code",
   "execution_count": null,
   "metadata": {},
   "outputs": [],
   "source": []
  },
  {
   "cell_type": "code",
   "execution_count": null,
   "metadata": {},
   "outputs": [],
   "source": [
    "args = {\n",
    "    'results_csv': repo_dir / 'results' / 'benchmark_scores.csv',\n",
    "}"
   ]
  },
  {
   "cell_type": "code",
   "execution_count": null,
   "metadata": {},
   "outputs": [],
   "source": [
    "results_csv = args['results_csv']\n",
    "\n",
    "df_results = pd.read_csv(results_csv)"
   ]
  },
  {
   "cell_type": "markdown",
   "metadata": {},
   "source": [
    "## Load Experiment Configuration"
   ]
  },
  {
   "cell_type": "code",
   "execution_count": null,
   "metadata": {},
   "outputs": [],
   "source": [
    "config = {\n",
    "    'data_filters': {\n",
    "        'set_filters': {\n",
    "            'region': [\n",
    "                'V1',\n",
    "                'V2',\n",
    "                'V4',\n",
    "                'IT',\n",
    "                'Behavioral'\n",
    "                ],\n",
    "            'dataset': [\n",
    "                'imagenet',\n",
    "                'ecoset',\n",
    "                ]\n",
    "            },\n",
    "    'boolean_filters': {\n",
    "        'equals_false': [\n",
    "            'is_pretrained',\n",
    "            'is_random',\n",
    "            'is_ssl',\n",
    "            'is_adv',\n",
    "            'is_ablation'\n",
    "            ]\n",
    "        },\n",
    "    \n",
    "    'group_by': {\n",
    "        'avg_score': {\n",
    "            'keys': [\n",
    "                'model_id',\n",
    "                'arch',\n",
    "                'dataset',\n",
    "                'flops',\n",
    "                'n_params',\n",
    "                'n_samples',\n",
    "                'n_samples_seen',\n",
    "                'total_flops',\n",
    "                'arch_family',\n",
    "                'samples_per_class'\n",
    "            ],\n",
    "            'reduce': {'score': 'mean'}}},\n",
    "    # 'arch_families_samples': {\n",
    "    #     'arch_family': [\n",
    "    #         'ConvNeXt',\n",
    "    #         'ConvNeXtFlex',\n",
    "    #         'ViT',\n",
    "    #         'ViTFlex',\n",
    "    #         ],\n",
    "    # 'samples_per_class': [0, 300]},\n",
    "    'combine_arch_families': True,\n",
    "    }\n",
    "}"
   ]
  },
  {
   "cell_type": "markdown",
   "metadata": {},
   "source": [
    "## Apply Data Filters"
   ]
  },
  {
   "cell_type": "code",
   "execution_count": null,
   "metadata": {},
   "outputs": [],
   "source": [
    "df = apply_filters(df_results, config.get('data_filters', {}))"
   ]
  },
  {
   "cell_type": "markdown",
   "metadata": {},
   "source": [
    "## Visualize"
   ]
  },
  {
   "cell_type": "markdown",
   "metadata": {},
   "source": [
    "#### Plotting settings"
   ]
  },
  {
   "cell_type": "code",
   "execution_count": null,
   "metadata": {},
   "outputs": [],
   "source": [
    "linewidth = 3.0\n",
    "alpha_scatter = 0.2\n",
    "alpha_ci = 0.2\n",
    "alpha_fit = 1.0\n",
    "fig_multiplier = 0.75\n",
    "font_size_multiplier = 1.5\n",
    "figsize = (12, 8)\n",
    "figsize = (fig_multiplier * figsize[0], fig_multiplier * figsize[1])\n",
    "\n",
    "color_palaette = COLOR_PALETTES['models']\n",
    "\n",
    "arch2colorid = {\n",
    "    'ResNet': 5,\n",
    "    'EfficientNet': 4,\n",
    "    'ConvNeXt': 2,\n",
    "    'ViT': 3,\n",
    "    'CorNet-S': 1,\n",
    "    'AlexNet': 0,\n",
    "}"
   ]
  },
  {
   "cell_type": "markdown",
   "metadata": {},
   "source": [
    "#### Plot"
   ]
  },
  {
   "cell_type": "code",
   "execution_count": null,
   "metadata": {},
   "outputs": [],
   "source": [
    "# sns.set_theme(style='whitegrid')\n",
    "# sns.set_theme(style='ticks')\n",
    "\n",
    "\n",
    "fig, axes = plt.subplots(1, 1, figsize=figsize, dpi=300)\n",
    "ax = axes\n",
    "\n",
    "df_plot = df.copy()\n",
    "df_plot.rename(columns={'arch_family': 'Architecture'}, inplace=True)\n",
    "sns.lineplot(data=df_plot, x='total_flops', y='score', hue='Architecture', ax=ax, markers=True, size='n_params', style='Architecture', size_norm=LogNorm(), palette=color_palaette)\n",
    "\n",
    "### Formatting\n",
    "ax.set_xscale('log')\n",
    "ax.set_xlabel('Total Flops (C)', fontsize=16, fontweight='bold')\n",
    "ax.set_ylabel('Alignment Score (S)', fontsize=16, fontweight='bold')\n",
    "ax = set_ticks(ax, xticks_mode='log', yticks_mode=None, yticks=[0.0, 0.1, 0.2, 0.3, 0.4, 0.5])\n",
    "\n",
    "### Legend\n",
    "handles, labels = ax.get_legend_handles_labels()\n",
    "handles, labels = handles[1:7], labels[1:7]\n",
    "l1 = ax.legend(handles, labels, loc='lower right')\n",
    "\n",
    "\n",
    "\n",
    "ax.spines[['right', 'top']].set_visible(False)\n",
    "\n",
    "# break\n",
    "plt.tight_layout()\n",
    "\n",
    "\n",
    "figures_dir = '../figures'\n",
    "fig_name = 'fig4_compute_arch'\n",
    "formats = ['pdf', 'png', 'svg']\n",
    "save_figs(figures_dir, fig_name, formats=formats)"
   ]
  },
  {
   "cell_type": "code",
   "execution_count": null,
   "metadata": {},
   "outputs": [],
   "source": []
  },
  {
   "cell_type": "code",
   "execution_count": null,
   "metadata": {},
   "outputs": [],
   "source": []
  }
 ],
 "metadata": {
  "kernelspec": {
   "display_name": "brain",
   "language": "python",
   "name": "python3"
  },
  "language_info": {
   "codemirror_mode": {
    "name": "ipython",
    "version": 3
   },
   "file_extension": ".py",
   "mimetype": "text/x-python",
   "name": "python",
   "nbconvert_exporter": "python",
   "pygments_lexer": "ipython3",
   "version": "3.11.10"
  }
 },
 "nbformat": 4,
 "nbformat_minor": 2
}
