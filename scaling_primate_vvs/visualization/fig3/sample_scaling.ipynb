{
 "cells": [
  {
   "cell_type": "code",
   "execution_count": null,
   "metadata": {},
   "outputs": [],
   "source": [
    "%load_ext autoreload\n",
    "%autoreload 2"
   ]
  },
  {
   "cell_type": "code",
   "execution_count": null,
   "metadata": {},
   "outputs": [],
   "source": [
    "from pathlib import Path\n",
    "import sys\n",
    "import pickle\n",
    "from itertools import product\n",
    "\n",
    "import numpy as np\n",
    "import pandas as pd\n",
    "import matplotlib.pyplot as plt\n",
    "import seaborn as sns\n",
    "\n",
    "sns.set_theme(style='whitegrid')\n",
    "sns.set_theme(style='ticks')"
   ]
  },
  {
   "cell_type": "code",
   "execution_count": null,
   "metadata": {},
   "outputs": [],
   "source": [
    "repo_dir = Path('../..')"
   ]
  },
  {
   "cell_type": "code",
   "execution_count": null,
   "metadata": {},
   "outputs": [],
   "source": [
    "if str(repo_dir) not in sys.path:\n",
    "    sys.path.append(str(repo_dir))\n",
    "    \n",
    "from analysis.curve_fitting.src.fitting_functions import LOSS_FUNCTIONS\n",
    "from analysis.curve_fitting.src.utils import apply_filters, load_yaml, convert_loss_parameters, convert_loss_parameters_batch\n",
    "\n",
    "from visualization.src.utils import COLOR_PALETTES, set_ticks, save_figs\n",
    "from visualization.src.visualize import plot_reg, plot_reg_bivariate, plot_confidence_intervals\n",
    "\n"
   ]
  },
  {
   "cell_type": "code",
   "execution_count": null,
   "metadata": {},
   "outputs": [],
   "source": []
  },
  {
   "cell_type": "code",
   "execution_count": null,
   "metadata": {},
   "outputs": [],
   "source": [
    "args = {\n",
    "    'results_csv': repo_dir / 'results' / 'benchmark_scores.csv',\n",
    "}"
   ]
  },
  {
   "cell_type": "code",
   "execution_count": null,
   "metadata": {},
   "outputs": [],
   "source": [
    "results_csv = args['results_csv']\n",
    "\n",
    "df_results = pd.read_csv(results_csv)"
   ]
  },
  {
   "cell_type": "markdown",
   "metadata": {},
   "source": [
    "## Load Experiment Configuration"
   ]
  },
  {
   "cell_type": "code",
   "execution_count": null,
   "metadata": {},
   "outputs": [],
   "source": [
    "analysis_dir = repo_dir / 'analysis'\n",
    "config_dir = analysis_dir / 'curve_fitting/configs/sample'\n",
    "results_dir = analysis_dir / 'curve_fitting/outputs/fitting_results'\n",
    "# results_dir = analysis_dir / 'curve_fitting/outputs/fitting_results_sample'"
   ]
  },
  {
   "cell_type": "code",
   "execution_count": null,
   "metadata": {},
   "outputs": [],
   "source": [
    "dataset = [\n",
    "    'imagenet',\n",
    "    'ecoset',\n",
    "    'imagenet21kP',\n",
    "    'webvisionP',\n",
    "    'inaturalist',\n",
    "    'places365',\n",
    "    'infimnist'\n",
    "]"
   ]
  },
  {
   "cell_type": "code",
   "execution_count": null,
   "metadata": {},
   "outputs": [],
   "source": []
  },
  {
   "cell_type": "code",
   "execution_count": null,
   "metadata": {},
   "outputs": [],
   "source": [
    "all_configs = {}\n",
    "\n",
    "for ds in dataset:\n",
    "    yaml_config = config_dir / f'{ds}_scaling.yaml'\n",
    "    all_configs[f\"{ds}\"] = load_yaml(yaml_config)\n"
   ]
  },
  {
   "cell_type": "code",
   "execution_count": null,
   "metadata": {},
   "outputs": [],
   "source": [
    "L_fit_dict = {key: config['fitting_parameters']['loss_function'] for key, config in all_configs.items()}\n",
    "L_viz_dict = {key: config['visualization']['loss_function'] for key, config in all_configs.items()}\n",
    "x_scale_dict = {key: float(config['fitting_parameters']['X_scaler']) for key, config in all_configs.items()}\n",
    "\n"
   ]
  },
  {
   "cell_type": "markdown",
   "metadata": {},
   "source": [
    "## Apply Data Filters"
   ]
  },
  {
   "cell_type": "code",
   "execution_count": null,
   "metadata": {},
   "outputs": [],
   "source": [
    "all_df = {\n",
    "    name: apply_filters(df_results, config.get('data_filters', {}))\n",
    "    for name, config in all_configs.items()\n",
    "}"
   ]
  },
  {
   "cell_type": "markdown",
   "metadata": {},
   "source": [
    "## Load Fitting Results"
   ]
  },
  {
   "cell_type": "code",
   "execution_count": null,
   "metadata": {},
   "outputs": [],
   "source": [
    "optimized_params_dict = {}\n",
    "opt_params_boot_dict = {}\n",
    "\n",
    "for ds in all_configs.keys():\n",
    "    with open(results_dir / f'sample_{ds}_scaling' / 'results.pkl', 'rb') as f:\n",
    "        results = pickle.load(f)\n",
    "\n",
    "    L_fit = L_fit_dict[ds]\n",
    "    L_viz = L_viz_dict[ds]\n",
    "    optimized_params_dict[ds] = convert_loss_parameters(results['optimized_parameters'], L_fit, L_viz)\n",
    "\n",
    "    # Convert bootstrapped parameters\n",
    "    opt_params_boot = results['optimized_parameters_bootstrapped']\n",
    "    opt_params_boot_dict[ds] = convert_loss_parameters_batch(\n",
    "        params=opt_params_boot,\n",
    "        src_loss=L_fit,\n",
    "        dst_loss=L_viz\n",
    "    )"
   ]
  },
  {
   "cell_type": "markdown",
   "metadata": {},
   "source": [
    "## Visualize"
   ]
  },
  {
   "cell_type": "markdown",
   "metadata": {},
   "source": [
    "#### Plotting settings"
   ]
  },
  {
   "cell_type": "code",
   "execution_count": null,
   "metadata": {},
   "outputs": [],
   "source": [
    "x_extend = 15\n",
    "X_str = r'$$\\tilde{D}$$'\n",
    "linewidth = 3.0\n",
    "alpha_scatter = 0.2\n",
    "alpha_ci = 0.2\n",
    "alpha_fit = 1.0\n",
    "fig_multiplier = 0.75\n",
    "figsize = (10, 8)\n",
    "figsize = (10, 7)\n",
    "figsize = (fig_multiplier * figsize[0], fig_multiplier * figsize[1])\n",
    "\n",
    "color_palette = COLOR_PALETTES['datasets']\n",
    "\n",
    "dataset2colorid = {\n",
    "    'imagenet': 0,\n",
    "    'imagenet21kP': 1,\n",
    "    'ImageNet21kP': 1,\n",
    "    'webvisionP': 2,\n",
    "    'WebvisionP': 2,\n",
    "    'places365': 3,\n",
    "    'Places365': 3,\n",
    "    'inaturalist': 4,\n",
    "    'iNaturalist': 4,\n",
    "    'ecoset': 5,\n",
    "}"
   ]
  },
  {
   "cell_type": "code",
   "execution_count": null,
   "metadata": {},
   "outputs": [],
   "source": [
    "config = {\n",
    "    'data_filters': {\n",
    "        'set_filters': {\n",
    "            'region': [\n",
    "                'V1',\n",
    "                'V2',\n",
    "                'V4',\n",
    "                'IT',\n",
    "                'Behavioral'\n",
    "                ],\n",
    "            'dataset': [\n",
    "                'webvisionP',\n",
    "                'inaturalist',\n",
    "                'imagenet21kP',\n",
    "                'places365',\n",
    "                ]\n",
    "            },\n",
    "    'boolean_filters': {\n",
    "        'equals_false': [\n",
    "            'is_pretrained',\n",
    "            'is_random',\n",
    "            'is_ssl',\n",
    "            'is_adv',\n",
    "            'is_ablation'\n",
    "            ]\n",
    "        },\n",
    "    \n",
    "    'group_by': {\n",
    "        'avg_score': {\n",
    "            'keys': [\n",
    "                'model_id',\n",
    "                'arch',\n",
    "                'dataset',\n",
    "                'flops',\n",
    "                'n_params',\n",
    "                'n_samples',\n",
    "                'n_samples_seen',\n",
    "                'total_flops',\n",
    "                'arch_family',\n",
    "                'samples_per_class',\n",
    "                'benchmark_name',\n",
    "            ],\n",
    "            'reduce': {'score': 'mean'}}},\n",
    "    'combine_arch_families': True,\n",
    "    }\n",
    "}"
   ]
  },
  {
   "cell_type": "code",
   "execution_count": null,
   "metadata": {},
   "outputs": [],
   "source": [
    "df_other = apply_filters(df_results, config.get('data_filters', {}))\n",
    "df_other.dataset = df_other.dataset.map({\n",
    "    'webvisionP': 'WebvisionP',\n",
    "    'inaturalist': 'iNaturalist',\n",
    "    'imagenet21kP': 'ImageNet21kP',\n",
    "    'places365': 'Places365',\n",
    "})\n",
    "# df_other"
   ]
  },
  {
   "cell_type": "code",
   "execution_count": null,
   "metadata": {},
   "outputs": [],
   "source": [
    "linestyles = [\n",
    "    '--',\n",
    "    '-.',\n",
    "    ':',\n",
    "    (0, (1,1)),\n",
    "    '-',\n",
    "    \n",
    "]"
   ]
  },
  {
   "cell_type": "markdown",
   "metadata": {},
   "source": [
    "#### Plot"
   ]
  },
  {
   "cell_type": "code",
   "execution_count": null,
   "metadata": {},
   "outputs": [],
   "source": [
    "# sns.set_theme(style='whitegrid')\n",
    "# sns.set_theme(style='ticks')\n",
    "\n",
    "\n",
    "fig, axes = plt.subplots(1, 1, figsize=figsize, dpi=300)\n",
    "ax = axes\n",
    "style_id = 0\n",
    "for idx, ds in enumerate(dataset):\n",
    "\n",
    "    df_plot = all_df[ds]\n",
    "    optimized_params = optimized_params_dict[ds]\n",
    "    opt_params_boot = opt_params_boot_dict[ds]\n",
    "    L = LOSS_FUNCTIONS[L_viz_dict[ds]]\n",
    "    x_scaler = x_scale_dict[ds]\n",
    "    X = df_plot.n_samples_seen.values / x_scaler\n",
    "    \n",
    "    if ds != 'infimnist':\n",
    "        color = color_palette[dataset2colorid[ds]]\n",
    "    else:\n",
    "        color = '#9a8c98'\n",
    "    sns.scatterplot(data=df_plot, x='n_samples_seen', y='score', ax=ax, color=color, alpha=alpha_scatter)\n",
    "    if ds in ['imagenet', 'ecoset']:\n",
    "    # if True:\n",
    "        plot_reg(X, optimized_params, L, ax, color=color, x_extend=x_extend, linestyle='-', X_str=X_str, x_scaler=x_scaler, show_x_scaler=False, linewidth=linewidth, legend=True, alpha=alpha_fit)\n",
    "        plot_confidence_intervals(X, opt_params_boot, L, ax, color=color, x_extend=x_extend, x_scaler=x_scaler, alpha=alpha_ci, percentile=95.0, invert_y=True)\n",
    "    else:\n",
    "        linestyle = '-.'\n",
    "        linestyle = linestyles[min(style_id, len(linestyles) - 1)]\n",
    "        style_id += 1\n",
    "        linewidth_ = linewidth / 2\n",
    "        \n",
    "        plot_reg(X, optimized_params, L, ax, color=color, x_extend=x_extend, linestyle=linestyle, X_str=X_str, x_scaler=x_scaler, show_x_scaler=False, linewidth=linewidth_, legend=True, alpha=alpha_fit)\n",
    "\n",
    "\n",
    "\n",
    "\n",
    "ax.set_xscale('log')\n",
    "ax.set_ylim(0, 0.5)\n",
    "ax.set_xlabel('FLOPs')\n",
    "ax.set_ylabel('Alignment')\n",
    "ax.set_xlabel('Number of Samples Seen (D)', fontsize=16, fontweight='bold')\n",
    "ax.set_ylabel('Alignment Score (S)', fontsize=16, fontweight='bold')\n",
    "# ax.set_title(arch_family, fontsize=20, fontweight='bold')\n",
    "# ax = set_ticks(ax, xticks_mode='log', yticks_mode=None, yticks=[0.1, 0.2, 0.3, 0.4, 0.5, 0.6, 0.7])\n",
    "ax = set_ticks(ax, xticks_mode='log', yticks_mode=None, yticks=[0.1, 0.2, 0.3, 0.4, 0.5, 0.6])\n",
    "\n",
    "handles, labels = ax.get_legend_handles_labels()\n",
    "labels_curves = [\n",
    "    'ImageNet   ' + labels[0],\n",
    "    'Ecoset   '  + labels[1],\n",
    "]\n",
    "handles_curves = handles[:len(labels_curves)]\n",
    "legent_curves = ax.legend(handles_curves, labels_curves, fontsize=12, loc='upper right')\n",
    "\n",
    "\n",
    "labels_curves2 = [\n",
    "    'ImageNet21kP   ' + labels[2],\n",
    "    'iNaturalist   ' + labels[3],\n",
    "    'WebvisionP   ' + labels[4],\n",
    "    'Places365   ' + labels[5],\n",
    "    'infiMNIST   ' + labels[6],\n",
    "]\n",
    "handles_curves2 = handles[len(labels_curves):]\n",
    "legent_curves2 = ax.legend(handles_curves2, labels_curves2, fontsize=12, loc='lower right')\n",
    "\n",
    "ax.add_artist(legent_curves)\n",
    "\n",
    "\n",
    "\n",
    "ax.spines[['right', 'top']].set_visible(False)\n",
    "\n",
    "plt.tight_layout()\n",
    "\n",
    "\n",
    "\n",
    "\n",
    "figures_dir = '../figures'\n",
    "fig_name = 'fig3_sample_scaling'\n",
    "formats = ['pdf', 'png', 'svg']\n",
    "save_figs(figures_dir, fig_name, formats=formats)"
   ]
  },
  {
   "cell_type": "code",
   "execution_count": null,
   "metadata": {},
   "outputs": [],
   "source": []
  }
 ],
 "metadata": {
  "kernelspec": {
   "display_name": "brain",
   "language": "python",
   "name": "python3"
  },
  "language_info": {
   "codemirror_mode": {
    "name": "ipython",
    "version": 3
   },
   "file_extension": ".py",
   "mimetype": "text/x-python",
   "name": "python",
   "nbconvert_exporter": "python",
   "pygments_lexer": "ipython3",
   "version": "3.11.10"
  }
 },
 "nbformat": 4,
 "nbformat_minor": 2
}
