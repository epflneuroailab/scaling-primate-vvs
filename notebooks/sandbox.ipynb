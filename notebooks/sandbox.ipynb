{
 "cells": [
  {
   "cell_type": "code",
   "execution_count": null,
   "metadata": {},
   "outputs": [],
   "source": [
    "import numpy as np\n",
    "from scaling_primate_vvs import list_models, load_brain_model, load_model, get_benchmark_scores_dataframe, get_model_checkpoints_dataframe"
   ]
  },
  {
   "cell_type": "code",
   "execution_count": null,
   "metadata": {},
   "outputs": [],
   "source": [
    "# List all available models\n",
    "available_models = list_models()\n",
    "print(\"Available Models:\")\n",
    "available_models[1000:1010]\n"
   ]
  },
  {
   "cell_type": "code",
   "execution_count": null,
   "metadata": {},
   "outputs": [],
   "source": [
    "# Load a specific model\n",
    "model_id = 'resnet18_imagenet_full'\n",
    "model = load_model(model_id)"
   ]
  },
  {
   "cell_type": "code",
   "execution_count": null,
   "metadata": {},
   "outputs": [],
   "source": [
    "# Load a brain-mapped model\n",
    "model_id = 'resnet18_imagenet_full'\n",
    "brain_model = load_brain_model(model_id)"
   ]
  },
  {
   "cell_type": "code",
   "execution_count": null,
   "metadata": {},
   "outputs": [],
   "source": [
    "# Retrieve benchmark scores on public benchmarks\n",
    "model_id = 'resnet18_imagenet_full'\n",
    "public_benchmarks = get_benchmark_scores_dataframe('public')\n",
    "public_benchmarks[public_benchmarks['model_id'] == model_id]"
   ]
  }
 ],
 "metadata": {
  "kernelspec": {
   "display_name": "test",
   "language": "python",
   "name": "python3"
  },
  "language_info": {
   "codemirror_mode": {
    "name": "ipython",
    "version": 3
   },
   "file_extension": ".py",
   "mimetype": "text/x-python",
   "name": "python",
   "nbconvert_exporter": "python",
   "pygments_lexer": "ipython3",
   "version": "3.11.11"
  }
 },
 "nbformat": 4,
 "nbformat_minor": 2
}
